{
 "cells": [
  {
   "cell_type": "code",
   "execution_count": 10,
   "id": "337668b0-e354-4557-b7bf-d4645f517c64",
   "metadata": {
    "tags": []
   },
   "outputs": [],
   "source": [
    "import pandas as pd\n",
    "import numpy as np\n",
    "import seaborn as sns\n",
    "import os\n",
    "import pickle\n",
    "import matplotlib.pyplot as plt\n",
    "import warnings\n",
    "from imblearn.over_sampling import RandomOverSampler\n",
    "from sklearn.svm import SVC \n",
    "from sklearn.linear_model import LogisticRegression \n",
    "from sklearn.model_selection import train_test_split\n",
    "from sklearn.metrics import accuracy_score \n",
    "from sklearn.preprocessing import OneHotEncoder, RobustScaler \n",
    "from sklearn.tree import DecisionTreeClassifier, plot_tree\n",
    "from sklearn.ensemble import GradientBoostingClassifier, RandomForestClassifier, VotingClassifier \n",
    "from category_encoders import OrdinalEncoder\n",
    "from sklearn.pipeline import Pipeline, make_pipeline\n",
    "from sklearn.metrics import (\n",
    "    ConfusionMatrixDisplay,\n",
    "    classification_report,\n",
    "    confusion_matrix,\n",
    ")\n",
    "from preprocessing import data_wrangler\n",
    "warnings.filterwarnings('ignore')"
   ]
  },
  {
   "cell_type": "code",
   "execution_count": 11,
   "id": "01b9d3c4-abd4-4b9a-a2e1-485df2bb63f3",
   "metadata": {
    "tags": []
   },
   "outputs": [],
   "source": [
    "# Load and preprocess the data using the `data_wrangler` function\n",
    "model_df = data_wrangler(\"comptab_2018-01-29 16_00_comma_separated.csv\")\n",
    "\n",
    "# Split the data into features (X) and the target (y)\n",
    "X = model_df.drop(\"App.\", axis=1)\n",
    "y = model_df[\"App.\"]\n",
    "\n",
    "# Split the data into training and testing sets\n",
    "X_train, X_test, y_train, y_test = train_test_split(X, y, test_size=0.3, random_state=42)\n"
   ]
  },
  {
   "cell_type": "code",
   "execution_count": 12,
   "id": "b3120a56-99f2-475c-9676-9c0990af4606",
   "metadata": {},
   "outputs": [],
   "source": [
    "# Obtain the training data using the `split_data` function\n",
    "# X_train, y_train = split_data()[0], split_data()[2]\n",
    "\n",
    "# Perform random oversampling on the training data\n",
    "X_train_over, y_train_over = RandomOverSampler(random_state=42).fit_resample(X_train, y_train)"
   ]
  },
  {
   "cell_type": "code",
   "execution_count": 13,
   "id": "9b986ac5-6aa6-4250-811d-1b0cda792db5",
   "metadata": {
    "tags": []
   },
   "outputs": [],
   "source": [
    "# Define a list of base estimators\n",
    "estimator = []\n",
    "estimator.append(('LR', LogisticRegression(solver='lbfgs', multi_class='multinomial', max_iter=200)))\n",
    "estimator.append(('SVC', SVC(gamma='auto', probability=True)))\n",
    "estimator.append(('DTC', DecisionTreeClassifier(max_depth=10)))\n",
    "estimator.append(('RFC', RandomForestClassifier(random_state=42)))\n",
    "estimator.append(('GBC', GradientBoostingClassifier()))\n",
    "\n",
    "# Create a Voting Classifier with the specified voting method\n",
    "model = make_pipeline(\n",
    "    OrdinalEncoder(),\n",
    "    RobustScaler(),\n",
    "    VotingClassifier(estimators=estimator, voting=\"hard\")\n",
    ")"
   ]
  },
  {
   "cell_type": "code",
   "execution_count": 14,
   "id": "18ea25f0-ab5c-42c5-9d3a-cea81b09341d",
   "metadata": {
    "tags": []
   },
   "outputs": [
    {
     "data": {
      "text/html": [
       "<style>#sk-container-id-1 {color: black;background-color: white;}#sk-container-id-1 pre{padding: 0;}#sk-container-id-1 div.sk-toggleable {background-color: white;}#sk-container-id-1 label.sk-toggleable__label {cursor: pointer;display: block;width: 100%;margin-bottom: 0;padding: 0.3em;box-sizing: border-box;text-align: center;}#sk-container-id-1 label.sk-toggleable__label-arrow:before {content: \"▸\";float: left;margin-right: 0.25em;color: #696969;}#sk-container-id-1 label.sk-toggleable__label-arrow:hover:before {color: black;}#sk-container-id-1 div.sk-estimator:hover label.sk-toggleable__label-arrow:before {color: black;}#sk-container-id-1 div.sk-toggleable__content {max-height: 0;max-width: 0;overflow: hidden;text-align: left;background-color: #f0f8ff;}#sk-container-id-1 div.sk-toggleable__content pre {margin: 0.2em;color: black;border-radius: 0.25em;background-color: #f0f8ff;}#sk-container-id-1 input.sk-toggleable__control:checked~div.sk-toggleable__content {max-height: 200px;max-width: 100%;overflow: auto;}#sk-container-id-1 input.sk-toggleable__control:checked~label.sk-toggleable__label-arrow:before {content: \"▾\";}#sk-container-id-1 div.sk-estimator input.sk-toggleable__control:checked~label.sk-toggleable__label {background-color: #d4ebff;}#sk-container-id-1 div.sk-label input.sk-toggleable__control:checked~label.sk-toggleable__label {background-color: #d4ebff;}#sk-container-id-1 input.sk-hidden--visually {border: 0;clip: rect(1px 1px 1px 1px);clip: rect(1px, 1px, 1px, 1px);height: 1px;margin: -1px;overflow: hidden;padding: 0;position: absolute;width: 1px;}#sk-container-id-1 div.sk-estimator {font-family: monospace;background-color: #f0f8ff;border: 1px dotted black;border-radius: 0.25em;box-sizing: border-box;margin-bottom: 0.5em;}#sk-container-id-1 div.sk-estimator:hover {background-color: #d4ebff;}#sk-container-id-1 div.sk-parallel-item::after {content: \"\";width: 100%;border-bottom: 1px solid gray;flex-grow: 1;}#sk-container-id-1 div.sk-label:hover label.sk-toggleable__label {background-color: #d4ebff;}#sk-container-id-1 div.sk-serial::before {content: \"\";position: absolute;border-left: 1px solid gray;box-sizing: border-box;top: 0;bottom: 0;left: 50%;z-index: 0;}#sk-container-id-1 div.sk-serial {display: flex;flex-direction: column;align-items: center;background-color: white;padding-right: 0.2em;padding-left: 0.2em;position: relative;}#sk-container-id-1 div.sk-item {position: relative;z-index: 1;}#sk-container-id-1 div.sk-parallel {display: flex;align-items: stretch;justify-content: center;background-color: white;position: relative;}#sk-container-id-1 div.sk-item::before, #sk-container-id-1 div.sk-parallel-item::before {content: \"\";position: absolute;border-left: 1px solid gray;box-sizing: border-box;top: 0;bottom: 0;left: 50%;z-index: -1;}#sk-container-id-1 div.sk-parallel-item {display: flex;flex-direction: column;z-index: 1;position: relative;background-color: white;}#sk-container-id-1 div.sk-parallel-item:first-child::after {align-self: flex-end;width: 50%;}#sk-container-id-1 div.sk-parallel-item:last-child::after {align-self: flex-start;width: 50%;}#sk-container-id-1 div.sk-parallel-item:only-child::after {width: 0;}#sk-container-id-1 div.sk-dashed-wrapped {border: 1px dashed gray;margin: 0 0.4em 0.5em 0.4em;box-sizing: border-box;padding-bottom: 0.4em;background-color: white;}#sk-container-id-1 div.sk-label label {font-family: monospace;font-weight: bold;display: inline-block;line-height: 1.2em;}#sk-container-id-1 div.sk-label-container {text-align: center;}#sk-container-id-1 div.sk-container {/* jupyter's `normalize.less` sets `[hidden] { display: none; }` but bootstrap.min.css set `[hidden] { display: none !important; }` so we also need the `!important` here to be able to override the default hidden behavior on the sphinx rendered scikit-learn.org. See: https://github.com/scikit-learn/scikit-learn/issues/21755 */display: inline-block !important;position: relative;}#sk-container-id-1 div.sk-text-repr-fallback {display: none;}</style><div id=\"sk-container-id-1\" class=\"sk-top-container\"><div class=\"sk-text-repr-fallback\"><pre>Pipeline(steps=[(&#x27;ordinalencoder&#x27;,\n",
       "                 OrdinalEncoder(cols=[&#x27;Taxon&#x27;, &#x27;Class&#x27;, &#x27;Order&#x27;, &#x27;Family&#x27;,\n",
       "                                      &#x27;Genus&#x27;, &#x27;Term&#x27;, &#x27;Purpose&#x27;, &#x27;Source&#x27;],\n",
       "                                mapping=[{&#x27;col&#x27;: &#x27;Taxon&#x27;,\n",
       "                                          &#x27;data_type&#x27;: dtype(&#x27;O&#x27;),\n",
       "                                          &#x27;mapping&#x27;: Antilope cervicapra              1\n",
       "Blastomussa merleti              2\n",
       "Alligator mississippiensis       3\n",
       "Montipora spp.                   4\n",
       "Felis silvestris                 5\n",
       "                              ... \n",
       "Amblyrhynchus cristatus       1900\n",
       "Bubo capensis                 1901\n",
       "Psittacula himalayana         1902\n",
       "Ninox od...\n",
       "X       9\n",
       "A      10\n",
       "NaN    -2\n",
       "dtype: int64}])),\n",
       "                (&#x27;robustscaler&#x27;, RobustScaler()),\n",
       "                (&#x27;votingclassifier&#x27;,\n",
       "                 VotingClassifier(estimators=[(&#x27;LR&#x27;,\n",
       "                                               LogisticRegression(max_iter=200,\n",
       "                                                                  multi_class=&#x27;multinomial&#x27;)),\n",
       "                                              (&#x27;SVC&#x27;,\n",
       "                                               SVC(gamma=&#x27;auto&#x27;,\n",
       "                                                   probability=True)),\n",
       "                                              (&#x27;DTC&#x27;,\n",
       "                                               DecisionTreeClassifier(max_depth=10)),\n",
       "                                              (&#x27;RFC&#x27;,\n",
       "                                               RandomForestClassifier(random_state=42)),\n",
       "                                              (&#x27;GBC&#x27;,\n",
       "                                               GradientBoostingClassifier())]))])</pre><b>In a Jupyter environment, please rerun this cell to show the HTML representation or trust the notebook. <br />On GitHub, the HTML representation is unable to render, please try loading this page with nbviewer.org.</b></div><div class=\"sk-container\" hidden><div class=\"sk-item sk-dashed-wrapped\"><div class=\"sk-label-container\"><div class=\"sk-label sk-toggleable\"><input class=\"sk-toggleable__control sk-hidden--visually\" id=\"sk-estimator-id-1\" type=\"checkbox\" ><label for=\"sk-estimator-id-1\" class=\"sk-toggleable__label sk-toggleable__label-arrow\">Pipeline</label><div class=\"sk-toggleable__content\"><pre>Pipeline(steps=[(&#x27;ordinalencoder&#x27;,\n",
       "                 OrdinalEncoder(cols=[&#x27;Taxon&#x27;, &#x27;Class&#x27;, &#x27;Order&#x27;, &#x27;Family&#x27;,\n",
       "                                      &#x27;Genus&#x27;, &#x27;Term&#x27;, &#x27;Purpose&#x27;, &#x27;Source&#x27;],\n",
       "                                mapping=[{&#x27;col&#x27;: &#x27;Taxon&#x27;,\n",
       "                                          &#x27;data_type&#x27;: dtype(&#x27;O&#x27;),\n",
       "                                          &#x27;mapping&#x27;: Antilope cervicapra              1\n",
       "Blastomussa merleti              2\n",
       "Alligator mississippiensis       3\n",
       "Montipora spp.                   4\n",
       "Felis silvestris                 5\n",
       "                              ... \n",
       "Amblyrhynchus cristatus       1900\n",
       "Bubo capensis                 1901\n",
       "Psittacula himalayana         1902\n",
       "Ninox od...\n",
       "X       9\n",
       "A      10\n",
       "NaN    -2\n",
       "dtype: int64}])),\n",
       "                (&#x27;robustscaler&#x27;, RobustScaler()),\n",
       "                (&#x27;votingclassifier&#x27;,\n",
       "                 VotingClassifier(estimators=[(&#x27;LR&#x27;,\n",
       "                                               LogisticRegression(max_iter=200,\n",
       "                                                                  multi_class=&#x27;multinomial&#x27;)),\n",
       "                                              (&#x27;SVC&#x27;,\n",
       "                                               SVC(gamma=&#x27;auto&#x27;,\n",
       "                                                   probability=True)),\n",
       "                                              (&#x27;DTC&#x27;,\n",
       "                                               DecisionTreeClassifier(max_depth=10)),\n",
       "                                              (&#x27;RFC&#x27;,\n",
       "                                               RandomForestClassifier(random_state=42)),\n",
       "                                              (&#x27;GBC&#x27;,\n",
       "                                               GradientBoostingClassifier())]))])</pre></div></div></div><div class=\"sk-serial\"><div class=\"sk-item\"><div class=\"sk-estimator sk-toggleable\"><input class=\"sk-toggleable__control sk-hidden--visually\" id=\"sk-estimator-id-2\" type=\"checkbox\" ><label for=\"sk-estimator-id-2\" class=\"sk-toggleable__label sk-toggleable__label-arrow\">OrdinalEncoder</label><div class=\"sk-toggleable__content\"><pre>OrdinalEncoder(cols=[&#x27;Taxon&#x27;, &#x27;Class&#x27;, &#x27;Order&#x27;, &#x27;Family&#x27;, &#x27;Genus&#x27;, &#x27;Term&#x27;,\n",
       "                     &#x27;Purpose&#x27;, &#x27;Source&#x27;],\n",
       "               mapping=[{&#x27;col&#x27;: &#x27;Taxon&#x27;, &#x27;data_type&#x27;: dtype(&#x27;O&#x27;),\n",
       "                         &#x27;mapping&#x27;: Antilope cervicapra              1\n",
       "Blastomussa merleti              2\n",
       "Alligator mississippiensis       3\n",
       "Montipora spp.                   4\n",
       "Felis silvestris                 5\n",
       "                              ... \n",
       "Amblyrhynchus cristatus       1900\n",
       "Bubo capensis                 1901\n",
       "Psittacula himalayana         1902\n",
       "Ninox odiosa                  1903\n",
       "NaN                             -2\n",
       "Length: 1904, dtype: int...\n",
       "                        {&#x27;col&#x27;: &#x27;Term&#x27;, &#x27;data_type&#x27;: dtype(&#x27;O&#x27;),\n",
       "                         &#x27;mapping&#x27;: trophies                     1\n",
       "live                         2\n",
       "leather products (small)     3\n",
       "raw corals                   4\n",
       "skins                        5\n",
       "                            ..\n",
       "gall bladders               64\n",
       "eggshell                    65\n",
       "fingerlings                 66\n",
       "horn pieces                 67\n",
       "NaN                         -2\n",
       "Length: 68, dtype: int64},\n",
       "                        {&#x27;col&#x27;: &#x27;Purpose&#x27;, &#x27;data_type&#x27;: dtype(&#x27;O&#x27;),\n",
       "                         &#x27;mapping&#x27;: H       1\n",
       "T       2\n",
       "E       3\n",
       "Z       4\n",
       "P       5\n",
       "S       6\n",
       "Q       7\n",
       "M       8\n",
       "B       9\n",
       "N      10\n",
       "L      11\n",
       "NaN    -2\n",
       "dtype: int64},\n",
       "                        {&#x27;col&#x27;: &#x27;Source&#x27;, &#x27;data_type&#x27;: dtype(&#x27;O&#x27;),\n",
       "                         &#x27;mapping&#x27;: W       1\n",
       "F       2\n",
       "C       3\n",
       "I       4\n",
       "R       5\n",
       "D       6\n",
       "O       7\n",
       "U       8\n",
       "X       9\n",
       "A      10\n",
       "NaN    -2\n",
       "dtype: int64}])</pre></div></div></div><div class=\"sk-item\"><div class=\"sk-estimator sk-toggleable\"><input class=\"sk-toggleable__control sk-hidden--visually\" id=\"sk-estimator-id-3\" type=\"checkbox\" ><label for=\"sk-estimator-id-3\" class=\"sk-toggleable__label sk-toggleable__label-arrow\">RobustScaler</label><div class=\"sk-toggleable__content\"><pre>RobustScaler()</pre></div></div></div><div class=\"sk-item sk-dashed-wrapped\"><div class=\"sk-label-container\"><div class=\"sk-label sk-toggleable\"><input class=\"sk-toggleable__control sk-hidden--visually\" id=\"sk-estimator-id-4\" type=\"checkbox\" ><label for=\"sk-estimator-id-4\" class=\"sk-toggleable__label sk-toggleable__label-arrow\">votingclassifier: VotingClassifier</label><div class=\"sk-toggleable__content\"><pre>VotingClassifier(estimators=[(&#x27;LR&#x27;,\n",
       "                              LogisticRegression(max_iter=200,\n",
       "                                                 multi_class=&#x27;multinomial&#x27;)),\n",
       "                             (&#x27;SVC&#x27;, SVC(gamma=&#x27;auto&#x27;, probability=True)),\n",
       "                             (&#x27;DTC&#x27;, DecisionTreeClassifier(max_depth=10)),\n",
       "                             (&#x27;RFC&#x27;, RandomForestClassifier(random_state=42)),\n",
       "                             (&#x27;GBC&#x27;, GradientBoostingClassifier())])</pre></div></div></div><div class=\"sk-parallel\"><div class=\"sk-parallel-item\"><div class=\"sk-item\"><div class=\"sk-label-container\"><div class=\"sk-label sk-toggleable\"><label>LR</label></div></div><div class=\"sk-serial\"><div class=\"sk-item\"><div class=\"sk-estimator sk-toggleable\"><input class=\"sk-toggleable__control sk-hidden--visually\" id=\"sk-estimator-id-5\" type=\"checkbox\" ><label for=\"sk-estimator-id-5\" class=\"sk-toggleable__label sk-toggleable__label-arrow\">LogisticRegression</label><div class=\"sk-toggleable__content\"><pre>LogisticRegression(max_iter=200, multi_class=&#x27;multinomial&#x27;)</pre></div></div></div></div></div></div><div class=\"sk-parallel-item\"><div class=\"sk-item\"><div class=\"sk-label-container\"><div class=\"sk-label sk-toggleable\"><label>SVC</label></div></div><div class=\"sk-serial\"><div class=\"sk-item\"><div class=\"sk-estimator sk-toggleable\"><input class=\"sk-toggleable__control sk-hidden--visually\" id=\"sk-estimator-id-6\" type=\"checkbox\" ><label for=\"sk-estimator-id-6\" class=\"sk-toggleable__label sk-toggleable__label-arrow\">SVC</label><div class=\"sk-toggleable__content\"><pre>SVC(gamma=&#x27;auto&#x27;, probability=True)</pre></div></div></div></div></div></div><div class=\"sk-parallel-item\"><div class=\"sk-item\"><div class=\"sk-label-container\"><div class=\"sk-label sk-toggleable\"><label>DTC</label></div></div><div class=\"sk-serial\"><div class=\"sk-item\"><div class=\"sk-estimator sk-toggleable\"><input class=\"sk-toggleable__control sk-hidden--visually\" id=\"sk-estimator-id-7\" type=\"checkbox\" ><label for=\"sk-estimator-id-7\" class=\"sk-toggleable__label sk-toggleable__label-arrow\">DecisionTreeClassifier</label><div class=\"sk-toggleable__content\"><pre>DecisionTreeClassifier(max_depth=10)</pre></div></div></div></div></div></div><div class=\"sk-parallel-item\"><div class=\"sk-item\"><div class=\"sk-label-container\"><div class=\"sk-label sk-toggleable\"><label>RFC</label></div></div><div class=\"sk-serial\"><div class=\"sk-item\"><div class=\"sk-estimator sk-toggleable\"><input class=\"sk-toggleable__control sk-hidden--visually\" id=\"sk-estimator-id-8\" type=\"checkbox\" ><label for=\"sk-estimator-id-8\" class=\"sk-toggleable__label sk-toggleable__label-arrow\">RandomForestClassifier</label><div class=\"sk-toggleable__content\"><pre>RandomForestClassifier(random_state=42)</pre></div></div></div></div></div></div><div class=\"sk-parallel-item\"><div class=\"sk-item\"><div class=\"sk-label-container\"><div class=\"sk-label sk-toggleable\"><label>GBC</label></div></div><div class=\"sk-serial\"><div class=\"sk-item\"><div class=\"sk-estimator sk-toggleable\"><input class=\"sk-toggleable__control sk-hidden--visually\" id=\"sk-estimator-id-9\" type=\"checkbox\" ><label for=\"sk-estimator-id-9\" class=\"sk-toggleable__label sk-toggleable__label-arrow\">GradientBoostingClassifier</label><div class=\"sk-toggleable__content\"><pre>GradientBoostingClassifier()</pre></div></div></div></div></div></div></div></div></div></div></div></div>"
      ],
      "text/plain": [
       "Pipeline(steps=[('ordinalencoder',\n",
       "                 OrdinalEncoder(cols=['Taxon', 'Class', 'Order', 'Family',\n",
       "                                      'Genus', 'Term', 'Purpose', 'Source'],\n",
       "                                mapping=[{'col': 'Taxon',\n",
       "                                          'data_type': dtype('O'),\n",
       "                                          'mapping': Antilope cervicapra              1\n",
       "Blastomussa merleti              2\n",
       "Alligator mississippiensis       3\n",
       "Montipora spp.                   4\n",
       "Felis silvestris                 5\n",
       "                              ... \n",
       "Amblyrhynchus cristatus       1900\n",
       "Bubo capensis                 1901\n",
       "Psittacula himalayana         1902\n",
       "Ninox od...\n",
       "X       9\n",
       "A      10\n",
       "NaN    -2\n",
       "dtype: int64}])),\n",
       "                ('robustscaler', RobustScaler()),\n",
       "                ('votingclassifier',\n",
       "                 VotingClassifier(estimators=[('LR',\n",
       "                                               LogisticRegression(max_iter=200,\n",
       "                                                                  multi_class='multinomial')),\n",
       "                                              ('SVC',\n",
       "                                               SVC(gamma='auto',\n",
       "                                                   probability=True)),\n",
       "                                              ('DTC',\n",
       "                                               DecisionTreeClassifier(max_depth=10)),\n",
       "                                              ('RFC',\n",
       "                                               RandomForestClassifier(random_state=42)),\n",
       "                                              ('GBC',\n",
       "                                               GradientBoostingClassifier())]))])"
      ]
     },
     "execution_count": 14,
     "metadata": {},
     "output_type": "execute_result"
    }
   ],
   "source": [
    "# Fit the model with the oversampled data\n",
    "model.fit(X_train_over, y_train_over)"
   ]
  },
  {
   "cell_type": "code",
   "execution_count": 18,
   "id": "e54373fb-957a-4607-a06e-b55775a8b3a5",
   "metadata": {
    "tags": []
   },
   "outputs": [
    {
     "name": "stdout",
     "output_type": "stream",
     "text": [
      "Model saved to serve/model/model_2023-11-07T14:38:53.407380.pkl\n"
     ]
    }
   ],
   "source": [
    "# Enter the preceding directory\n",
    "os.chdir(\"..\")\n",
    "\n",
    "# Specify the file path where you want to save the model\n",
    "model_path = f'serve/model/model_{pd.Timestamp.now().isoformat()}.pkl'\n",
    "\n",
    "# Save the model to the file using pickle\n",
    "with open(model_path, 'wb') as file:\n",
    "    pickle.dump(model, file)\n",
    "\n",
    "print(f'Model saved to {model_path}')"
   ]
  },
  {
   "cell_type": "code",
   "execution_count": null,
   "id": "755f7b49-4b82-4271-8f12-abf6bb6d463b",
   "metadata": {},
   "outputs": [],
   "source": []
  }
 ],
 "metadata": {
  "kernelspec": {
   "display_name": "hamoye",
   "language": "python",
   "name": "hamoye"
  },
  "language_info": {
   "codemirror_mode": {
    "name": "ipython",
    "version": 3
   },
   "file_extension": ".py",
   "mimetype": "text/x-python",
   "name": "python",
   "nbconvert_exporter": "python",
   "pygments_lexer": "ipython3",
   "version": "3.11.5"
  },
  "widgets": {
   "application/vnd.jupyter.widget-state+json": {
    "state": {},
    "version_major": 2,
    "version_minor": 0
   }
  }
 },
 "nbformat": 4,
 "nbformat_minor": 5
}
