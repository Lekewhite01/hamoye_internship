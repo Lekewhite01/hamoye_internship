{
 "cells": [
  {
   "cell_type": "code",
   "execution_count": 1,
   "id": "76c9d8eb-f63d-4a89-bd40-bd5b80452c38",
   "metadata": {},
   "outputs": [],
   "source": [
    "import pandas as pd\n",
    "import numpy as np\n",
    "import joblib\n",
    "import matplotlib.pyplot as plt\n",
    "import warnings\n",
    "import pickle\n",
    "from imblearn.over_sampling import RandomOverSampler\n",
    "from sklearn.svm import SVC \n",
    "from sklearn.linear_model import LogisticRegression \n",
    "from sklearn.model_selection import train_test_split\n",
    "from sklearn.metrics import accuracy_score \n",
    "from sklearn.preprocessing import OneHotEncoder \n",
    "from sklearn.tree import DecisionTreeClassifier, plot_tree\n",
    "from sklearn.ensemble import GradientBoostingClassifier, RandomForestClassifier, VotingClassifier \n",
    "from category_encoders import OrdinalEncoder\n",
    "from sklearn.pipeline import Pipeline, make_pipeline\n",
    "from sklearn.metrics import (\n",
    "    ConfusionMatrixDisplay,\n",
    "    classification_report,\n",
    "    confusion_matrix,\n",
    ")\n",
    "from lazypredict.Supervised import LazyClassifier\n",
    "warnings.filterwarnings('ignore')\n",
    "%matplotlib inline"
   ]
  },
  {
   "cell_type": "code",
   "execution_count": 2,
   "id": "b3190599-bc86-4b04-aa56-3efb885ed337",
   "metadata": {},
   "outputs": [],
   "source": [
    "df = pd.read_csv('comptab_2018-01-29 16_00_comma_separated.csv')"
   ]
  },
  {
   "cell_type": "code",
   "execution_count": 3,
   "id": "546f910e-857c-4b91-b93e-9bf69f8014b9",
   "metadata": {},
   "outputs": [
    {
     "data": {
      "text/html": [
       "<div>\n",
       "<style scoped>\n",
       "    .dataframe tbody tr th:only-of-type {\n",
       "        vertical-align: middle;\n",
       "    }\n",
       "\n",
       "    .dataframe tbody tr th {\n",
       "        vertical-align: top;\n",
       "    }\n",
       "\n",
       "    .dataframe thead th {\n",
       "        text-align: right;\n",
       "    }\n",
       "</style>\n",
       "<table border=\"1\" class=\"dataframe\">\n",
       "  <thead>\n",
       "    <tr style=\"text-align: right;\">\n",
       "      <th></th>\n",
       "      <th>Year</th>\n",
       "      <th>App.</th>\n",
       "      <th>Taxon</th>\n",
       "      <th>Class</th>\n",
       "      <th>Order</th>\n",
       "      <th>Family</th>\n",
       "      <th>Genus</th>\n",
       "      <th>Importer</th>\n",
       "      <th>Exporter</th>\n",
       "      <th>Origin</th>\n",
       "      <th>Importer reported quantity</th>\n",
       "      <th>Exporter reported quantity</th>\n",
       "      <th>Term</th>\n",
       "      <th>Unit</th>\n",
       "      <th>Purpose</th>\n",
       "      <th>Source</th>\n",
       "    </tr>\n",
       "  </thead>\n",
       "  <tbody>\n",
       "    <tr>\n",
       "      <th>0</th>\n",
       "      <td>2016</td>\n",
       "      <td>I</td>\n",
       "      <td>Aquila heliaca</td>\n",
       "      <td>Aves</td>\n",
       "      <td>Falconiformes</td>\n",
       "      <td>Accipitridae</td>\n",
       "      <td>Aquila</td>\n",
       "      <td>TR</td>\n",
       "      <td>NL</td>\n",
       "      <td>CZ</td>\n",
       "      <td>NaN</td>\n",
       "      <td>1.00</td>\n",
       "      <td>bodies</td>\n",
       "      <td>NaN</td>\n",
       "      <td>T</td>\n",
       "      <td>C</td>\n",
       "    </tr>\n",
       "    <tr>\n",
       "      <th>1</th>\n",
       "      <td>2016</td>\n",
       "      <td>I</td>\n",
       "      <td>Aquila heliaca</td>\n",
       "      <td>Aves</td>\n",
       "      <td>Falconiformes</td>\n",
       "      <td>Accipitridae</td>\n",
       "      <td>Aquila</td>\n",
       "      <td>XV</td>\n",
       "      <td>RS</td>\n",
       "      <td>RS</td>\n",
       "      <td>NaN</td>\n",
       "      <td>1.00</td>\n",
       "      <td>bodies</td>\n",
       "      <td>NaN</td>\n",
       "      <td>Q</td>\n",
       "      <td>O</td>\n",
       "    </tr>\n",
       "    <tr>\n",
       "      <th>2</th>\n",
       "      <td>2016</td>\n",
       "      <td>I</td>\n",
       "      <td>Haliaeetus albicilla</td>\n",
       "      <td>Aves</td>\n",
       "      <td>Falconiformes</td>\n",
       "      <td>Accipitridae</td>\n",
       "      <td>Haliaeetus</td>\n",
       "      <td>BE</td>\n",
       "      <td>NO</td>\n",
       "      <td>NaN</td>\n",
       "      <td>NaN</td>\n",
       "      <td>43.00</td>\n",
       "      <td>feathers</td>\n",
       "      <td>NaN</td>\n",
       "      <td>S</td>\n",
       "      <td>W</td>\n",
       "    </tr>\n",
       "    <tr>\n",
       "      <th>3</th>\n",
       "      <td>2016</td>\n",
       "      <td>I</td>\n",
       "      <td>Haliaeetus albicilla</td>\n",
       "      <td>Aves</td>\n",
       "      <td>Falconiformes</td>\n",
       "      <td>Accipitridae</td>\n",
       "      <td>Haliaeetus</td>\n",
       "      <td>BE</td>\n",
       "      <td>NO</td>\n",
       "      <td>NaN</td>\n",
       "      <td>NaN</td>\n",
       "      <td>43.00</td>\n",
       "      <td>specimens</td>\n",
       "      <td>NaN</td>\n",
       "      <td>S</td>\n",
       "      <td>W</td>\n",
       "    </tr>\n",
       "    <tr>\n",
       "      <th>4</th>\n",
       "      <td>2016</td>\n",
       "      <td>I</td>\n",
       "      <td>Haliaeetus albicilla</td>\n",
       "      <td>Aves</td>\n",
       "      <td>Falconiformes</td>\n",
       "      <td>Accipitridae</td>\n",
       "      <td>Haliaeetus</td>\n",
       "      <td>DK</td>\n",
       "      <td>IS</td>\n",
       "      <td>NaN</td>\n",
       "      <td>700.00</td>\n",
       "      <td>NaN</td>\n",
       "      <td>specimens</td>\n",
       "      <td>NaN</td>\n",
       "      <td>S</td>\n",
       "      <td>W</td>\n",
       "    </tr>\n",
       "  </tbody>\n",
       "</table>\n",
       "</div>"
      ],
      "text/plain": [
       "   Year App.                 Taxon Class          Order        Family  \\\n",
       "0  2016    I        Aquila heliaca  Aves  Falconiformes  Accipitridae   \n",
       "1  2016    I        Aquila heliaca  Aves  Falconiformes  Accipitridae   \n",
       "2  2016    I  Haliaeetus albicilla  Aves  Falconiformes  Accipitridae   \n",
       "3  2016    I  Haliaeetus albicilla  Aves  Falconiformes  Accipitridae   \n",
       "4  2016    I  Haliaeetus albicilla  Aves  Falconiformes  Accipitridae   \n",
       "\n",
       "        Genus Importer Exporter Origin  Importer reported quantity  \\\n",
       "0      Aquila       TR       NL     CZ                         NaN   \n",
       "1      Aquila       XV       RS     RS                         NaN   \n",
       "2  Haliaeetus       BE       NO    NaN                         NaN   \n",
       "3  Haliaeetus       BE       NO    NaN                         NaN   \n",
       "4  Haliaeetus       DK       IS    NaN                      700.00   \n",
       "\n",
       "   Exporter reported quantity       Term Unit Purpose Source  \n",
       "0                        1.00     bodies  NaN       T      C  \n",
       "1                        1.00     bodies  NaN       Q      O  \n",
       "2                       43.00   feathers  NaN       S      W  \n",
       "3                       43.00  specimens  NaN       S      W  \n",
       "4                         NaN  specimens  NaN       S      W  "
      ]
     },
     "execution_count": 3,
     "metadata": {},
     "output_type": "execute_result"
    }
   ],
   "source": [
    "df.head()"
   ]
  },
  {
   "cell_type": "code",
   "execution_count": 4,
   "id": "ceed4edc-b79c-4616-86bf-c5ab8cc9e5e5",
   "metadata": {},
   "outputs": [
    {
     "data": {
      "text/plain": [
       "array(['I', 'II', 'III', 'N'], dtype=object)"
      ]
     },
     "execution_count": 4,
     "metadata": {},
     "output_type": "execute_result"
    }
   ],
   "source": [
    "df[\"App.\"].unique()"
   ]
  },
  {
   "cell_type": "code",
   "execution_count": 5,
   "id": "9f01bd21-3491-4e72-a28a-da0506eeab97",
   "metadata": {},
   "outputs": [
    {
     "name": "stdout",
     "output_type": "stream",
     "text": [
      "<class 'pandas.core.frame.DataFrame'>\n",
      "RangeIndex: 67161 entries, 0 to 67160\n",
      "Data columns (total 16 columns):\n",
      " #   Column                      Non-Null Count  Dtype  \n",
      "---  ------                      --------------  -----  \n",
      " 0   Year                        67161 non-null  int64  \n",
      " 1   App.                        67161 non-null  object \n",
      " 2   Taxon                       67161 non-null  object \n",
      " 3   Class                       46937 non-null  object \n",
      " 4   Order                       67104 non-null  object \n",
      " 5   Family                      66700 non-null  object \n",
      " 6   Genus                       65702 non-null  object \n",
      " 7   Importer                    67090 non-null  object \n",
      " 8   Exporter                    66588 non-null  object \n",
      " 9   Origin                      25643 non-null  object \n",
      " 10  Importer reported quantity  31866 non-null  float64\n",
      " 11  Exporter reported quantity  44021 non-null  float64\n",
      " 12  Term                        67161 non-null  object \n",
      " 13  Unit                        6402 non-null   object \n",
      " 14  Purpose                     61102 non-null  object \n",
      " 15  Source                      66617 non-null  object \n",
      "dtypes: float64(2), int64(1), object(13)\n",
      "memory usage: 8.2+ MB\n"
     ]
    }
   ],
   "source": [
    "df.info()"
   ]
  },
  {
   "cell_type": "code",
   "execution_count": 6,
   "id": "23e28af2-a7f8-4ed6-b3cf-eb19f6fa34f2",
   "metadata": {},
   "outputs": [
    {
     "data": {
      "text/html": [
       "<div>\n",
       "<style scoped>\n",
       "    .dataframe tbody tr th:only-of-type {\n",
       "        vertical-align: middle;\n",
       "    }\n",
       "\n",
       "    .dataframe tbody tr th {\n",
       "        vertical-align: top;\n",
       "    }\n",
       "\n",
       "    .dataframe thead th {\n",
       "        text-align: right;\n",
       "    }\n",
       "</style>\n",
       "<table border=\"1\" class=\"dataframe\">\n",
       "  <thead>\n",
       "    <tr style=\"text-align: right;\">\n",
       "      <th></th>\n",
       "      <th>Year</th>\n",
       "      <th>Importer reported quantity</th>\n",
       "      <th>Exporter reported quantity</th>\n",
       "    </tr>\n",
       "  </thead>\n",
       "  <tbody>\n",
       "    <tr>\n",
       "      <th>count</th>\n",
       "      <td>67161.00</td>\n",
       "      <td>31866.00</td>\n",
       "      <td>44021.00</td>\n",
       "    </tr>\n",
       "    <tr>\n",
       "      <th>mean</th>\n",
       "      <td>2016.00</td>\n",
       "      <td>4382.43</td>\n",
       "      <td>4443.88</td>\n",
       "    </tr>\n",
       "    <tr>\n",
       "      <th>std</th>\n",
       "      <td>0.05</td>\n",
       "      <td>144910.27</td>\n",
       "      <td>157379.36</td>\n",
       "    </tr>\n",
       "    <tr>\n",
       "      <th>min</th>\n",
       "      <td>2016.00</td>\n",
       "      <td>0.00</td>\n",
       "      <td>0.00</td>\n",
       "    </tr>\n",
       "    <tr>\n",
       "      <th>25%</th>\n",
       "      <td>2016.00</td>\n",
       "      <td>3.00</td>\n",
       "      <td>2.00</td>\n",
       "    </tr>\n",
       "    <tr>\n",
       "      <th>50%</th>\n",
       "      <td>2016.00</td>\n",
       "      <td>12.00</td>\n",
       "      <td>12.00</td>\n",
       "    </tr>\n",
       "    <tr>\n",
       "      <th>75%</th>\n",
       "      <td>2016.00</td>\n",
       "      <td>80.00</td>\n",
       "      <td>82.00</td>\n",
       "    </tr>\n",
       "    <tr>\n",
       "      <th>max</th>\n",
       "      <td>2017.00</td>\n",
       "      <td>19524978.00</td>\n",
       "      <td>21543618.00</td>\n",
       "    </tr>\n",
       "  </tbody>\n",
       "</table>\n",
       "</div>"
      ],
      "text/plain": [
       "          Year  Importer reported quantity  Exporter reported quantity\n",
       "count 67161.00                    31866.00                    44021.00\n",
       "mean   2016.00                     4382.43                     4443.88\n",
       "std       0.05                   144910.27                   157379.36\n",
       "min    2016.00                        0.00                        0.00\n",
       "25%    2016.00                        3.00                        2.00\n",
       "50%    2016.00                       12.00                       12.00\n",
       "75%    2016.00                       80.00                       82.00\n",
       "max    2017.00                 19524978.00                 21543618.00"
      ]
     },
     "execution_count": 6,
     "metadata": {},
     "output_type": "execute_result"
    }
   ],
   "source": [
    "df.describe()"
   ]
  },
  {
   "cell_type": "code",
   "execution_count": 8,
   "id": "4b43a329-8228-42a0-a25d-a1509a73f851",
   "metadata": {},
   "outputs": [],
   "source": [
    "def wrangle(df, threshold=30000):\n",
    "\n",
    "    # Drop columns with more than set threshold of non-null values\n",
    "    model_df = df.dropna(axis=1, thresh=threshold)\n",
    "    \n",
    "    # Fill null values in import and export quantities to depict negation\n",
    "    float_columns = list(model_df.select_dtypes('float').columns)\n",
    "    \n",
    "    model_df[float_columns] = model_df[float_columns].fillna(0)\n",
    "\n",
    "    # Drop nulls nulls `from model_df`\n",
    "    model_df.dropna(inplace=True)\n",
    "    \n",
    "    # Convert `Year` to string\n",
    "    model_df[\"Year\"] = model_df[\"Year\"].astype(str)\n",
    "    \n",
    "    min_thresold_import, max_thresold_import = df['Importer reported quantity'].quantile([0.05,0.99])\n",
    "    min_thresold_export, max_thresold_export = df['Exporter reported quantity'].quantile([0.05,0.99])\n",
    "\n",
    "    model_df = df[((df['Importer reported quantity']<max_thresold_import) & (df['Importer reported quantity']>min_thresold_import))\n",
    "        & ((df['Exporter reported quantity']<max_thresold_export) & (df['Exporter reported quantity']>min_thresold_export))\n",
    "       ]\n",
    "    \n",
    "    drop_cols = ['Origin','Unit']\n",
    "    model_df.drop(drop_cols, axis=1, inplace=True)\n",
    "    \n",
    "    # Drop nulls nulls `from model_df`\n",
    "    model_df.dropna(inplace=True)\n",
    "    \n",
    "   \n",
    "    return model_df"
   ]
  },
  {
   "cell_type": "code",
   "execution_count": 9,
   "id": "1de8dccc-95de-49af-a01f-f6b69b3f2dc1",
   "metadata": {},
   "outputs": [],
   "source": [
    "model_df = wrangle(df)"
   ]
  },
  {
   "cell_type": "code",
   "execution_count": 10,
   "id": "face744a-db2a-4932-ba1e-f05ed46ac1dc",
   "metadata": {},
   "outputs": [
    {
     "data": {
      "text/html": [
       "<div>\n",
       "<style scoped>\n",
       "    .dataframe tbody tr th:only-of-type {\n",
       "        vertical-align: middle;\n",
       "    }\n",
       "\n",
       "    .dataframe tbody tr th {\n",
       "        vertical-align: top;\n",
       "    }\n",
       "\n",
       "    .dataframe thead th {\n",
       "        text-align: right;\n",
       "    }\n",
       "</style>\n",
       "<table border=\"1\" class=\"dataframe\">\n",
       "  <thead>\n",
       "    <tr style=\"text-align: right;\">\n",
       "      <th></th>\n",
       "      <th>Year</th>\n",
       "      <th>App.</th>\n",
       "      <th>Taxon</th>\n",
       "      <th>Class</th>\n",
       "      <th>Order</th>\n",
       "      <th>Family</th>\n",
       "      <th>Genus</th>\n",
       "      <th>Importer</th>\n",
       "      <th>Exporter</th>\n",
       "      <th>Importer reported quantity</th>\n",
       "      <th>Exporter reported quantity</th>\n",
       "      <th>Term</th>\n",
       "      <th>Purpose</th>\n",
       "      <th>Source</th>\n",
       "    </tr>\n",
       "  </thead>\n",
       "  <tbody>\n",
       "    <tr>\n",
       "      <th>45</th>\n",
       "      <td>2016</td>\n",
       "      <td>I</td>\n",
       "      <td>Oreonax flavicauda</td>\n",
       "      <td>Mammalia</td>\n",
       "      <td>Primates</td>\n",
       "      <td>Atelidae</td>\n",
       "      <td>Oreonax</td>\n",
       "      <td>DE</td>\n",
       "      <td>PE</td>\n",
       "      <td>70.00</td>\n",
       "      <td>50.00</td>\n",
       "      <td>specimens</td>\n",
       "      <td>S</td>\n",
       "      <td>W</td>\n",
       "    </tr>\n",
       "    <tr>\n",
       "      <th>57</th>\n",
       "      <td>2016</td>\n",
       "      <td>I</td>\n",
       "      <td>Balaena mysticetus</td>\n",
       "      <td>Mammalia</td>\n",
       "      <td>Cetacea</td>\n",
       "      <td>Balaenidae</td>\n",
       "      <td>Balaena</td>\n",
       "      <td>NO</td>\n",
       "      <td>GL</td>\n",
       "      <td>500.00</td>\n",
       "      <td>500.00</td>\n",
       "      <td>specimens</td>\n",
       "      <td>S</td>\n",
       "      <td>W</td>\n",
       "    </tr>\n",
       "    <tr>\n",
       "      <th>128</th>\n",
       "      <td>2016</td>\n",
       "      <td>I</td>\n",
       "      <td>Megaptera novaeangliae</td>\n",
       "      <td>Mammalia</td>\n",
       "      <td>Cetacea</td>\n",
       "      <td>Balaenopteridae</td>\n",
       "      <td>Megaptera</td>\n",
       "      <td>DK</td>\n",
       "      <td>GL</td>\n",
       "      <td>2.00</td>\n",
       "      <td>3.00</td>\n",
       "      <td>baleen</td>\n",
       "      <td>P</td>\n",
       "      <td>W</td>\n",
       "    </tr>\n",
       "    <tr>\n",
       "      <th>130</th>\n",
       "      <td>2016</td>\n",
       "      <td>I</td>\n",
       "      <td>Megaptera novaeangliae</td>\n",
       "      <td>Mammalia</td>\n",
       "      <td>Cetacea</td>\n",
       "      <td>Balaenopteridae</td>\n",
       "      <td>Megaptera</td>\n",
       "      <td>DK</td>\n",
       "      <td>GL</td>\n",
       "      <td>18.00</td>\n",
       "      <td>83.00</td>\n",
       "      <td>specimens</td>\n",
       "      <td>S</td>\n",
       "      <td>W</td>\n",
       "    </tr>\n",
       "    <tr>\n",
       "      <th>144</th>\n",
       "      <td>2016</td>\n",
       "      <td>I</td>\n",
       "      <td>Megaptera novaeangliae</td>\n",
       "      <td>Mammalia</td>\n",
       "      <td>Cetacea</td>\n",
       "      <td>Balaenopteridae</td>\n",
       "      <td>Megaptera</td>\n",
       "      <td>US</td>\n",
       "      <td>OM</td>\n",
       "      <td>49.00</td>\n",
       "      <td>49.00</td>\n",
       "      <td>specimens</td>\n",
       "      <td>S</td>\n",
       "      <td>W</td>\n",
       "    </tr>\n",
       "  </tbody>\n",
       "</table>\n",
       "</div>"
      ],
      "text/plain": [
       "     Year App.                   Taxon     Class     Order           Family  \\\n",
       "45   2016    I      Oreonax flavicauda  Mammalia  Primates         Atelidae   \n",
       "57   2016    I      Balaena mysticetus  Mammalia   Cetacea       Balaenidae   \n",
       "128  2016    I  Megaptera novaeangliae  Mammalia   Cetacea  Balaenopteridae   \n",
       "130  2016    I  Megaptera novaeangliae  Mammalia   Cetacea  Balaenopteridae   \n",
       "144  2016    I  Megaptera novaeangliae  Mammalia   Cetacea  Balaenopteridae   \n",
       "\n",
       "         Genus Importer Exporter  Importer reported quantity  \\\n",
       "45     Oreonax       DE       PE                       70.00   \n",
       "57     Balaena       NO       GL                      500.00   \n",
       "128  Megaptera       DK       GL                        2.00   \n",
       "130  Megaptera       DK       GL                       18.00   \n",
       "144  Megaptera       US       OM                       49.00   \n",
       "\n",
       "     Exporter reported quantity       Term Purpose Source  \n",
       "45                        50.00  specimens       S      W  \n",
       "57                       500.00  specimens       S      W  \n",
       "128                        3.00     baleen       P      W  \n",
       "130                       83.00  specimens       S      W  \n",
       "144                       49.00  specimens       S      W  "
      ]
     },
     "execution_count": 10,
     "metadata": {},
     "output_type": "execute_result"
    }
   ],
   "source": [
    "model_df.head()"
   ]
  },
  {
   "cell_type": "code",
   "execution_count": 11,
   "id": "c9085168-397e-45dd-bf8d-54496436777a",
   "metadata": {},
   "outputs": [
    {
     "name": "stdout",
     "output_type": "stream",
     "text": [
      "<class 'pandas.core.frame.DataFrame'>\n",
      "Index: 6056 entries, 45 to 66806\n",
      "Data columns (total 14 columns):\n",
      " #   Column                      Non-Null Count  Dtype  \n",
      "---  ------                      --------------  -----  \n",
      " 0   Year                        6056 non-null   int64  \n",
      " 1   App.                        6056 non-null   object \n",
      " 2   Taxon                       6056 non-null   object \n",
      " 3   Class                       6056 non-null   object \n",
      " 4   Order                       6056 non-null   object \n",
      " 5   Family                      6056 non-null   object \n",
      " 6   Genus                       6056 non-null   object \n",
      " 7   Importer                    6056 non-null   object \n",
      " 8   Exporter                    6056 non-null   object \n",
      " 9   Importer reported quantity  6056 non-null   float64\n",
      " 10  Exporter reported quantity  6056 non-null   float64\n",
      " 11  Term                        6056 non-null   object \n",
      " 12  Purpose                     6056 non-null   object \n",
      " 13  Source                      6056 non-null   object \n",
      "dtypes: float64(2), int64(1), object(11)\n",
      "memory usage: 709.7+ KB\n"
     ]
    }
   ],
   "source": [
    "model_df.info()"
   ]
  },
  {
   "cell_type": "code",
   "execution_count": 12,
   "id": "5f52b3ca-5693-4e35-b517-bf00d2ce73ce",
   "metadata": {},
   "outputs": [
    {
     "data": {
      "text/html": [
       "<div>\n",
       "<style scoped>\n",
       "    .dataframe tbody tr th:only-of-type {\n",
       "        vertical-align: middle;\n",
       "    }\n",
       "\n",
       "    .dataframe tbody tr th {\n",
       "        vertical-align: top;\n",
       "    }\n",
       "\n",
       "    .dataframe thead th {\n",
       "        text-align: right;\n",
       "    }\n",
       "</style>\n",
       "<table border=\"1\" class=\"dataframe\">\n",
       "  <thead>\n",
       "    <tr style=\"text-align: right;\">\n",
       "      <th></th>\n",
       "      <th>Year</th>\n",
       "      <th>Importer reported quantity</th>\n",
       "      <th>Exporter reported quantity</th>\n",
       "    </tr>\n",
       "  </thead>\n",
       "  <tbody>\n",
       "    <tr>\n",
       "      <th>count</th>\n",
       "      <td>6056.00</td>\n",
       "      <td>6056.00</td>\n",
       "      <td>6056.00</td>\n",
       "    </tr>\n",
       "    <tr>\n",
       "      <th>mean</th>\n",
       "      <td>2016.00</td>\n",
       "      <td>509.79</td>\n",
       "      <td>629.52</td>\n",
       "    </tr>\n",
       "    <tr>\n",
       "      <th>std</th>\n",
       "      <td>0.00</td>\n",
       "      <td>2009.85</td>\n",
       "      <td>2227.83</td>\n",
       "    </tr>\n",
       "    <tr>\n",
       "      <th>min</th>\n",
       "      <td>2016.00</td>\n",
       "      <td>1.07</td>\n",
       "      <td>1.14</td>\n",
       "    </tr>\n",
       "    <tr>\n",
       "      <th>25%</th>\n",
       "      <td>2016.00</td>\n",
       "      <td>8.00</td>\n",
       "      <td>9.00</td>\n",
       "    </tr>\n",
       "    <tr>\n",
       "      <th>50%</th>\n",
       "      <td>2016.00</td>\n",
       "      <td>32.00</td>\n",
       "      <td>42.00</td>\n",
       "    </tr>\n",
       "    <tr>\n",
       "      <th>75%</th>\n",
       "      <td>2016.00</td>\n",
       "      <td>174.00</td>\n",
       "      <td>243.00</td>\n",
       "    </tr>\n",
       "    <tr>\n",
       "      <th>max</th>\n",
       "      <td>2016.00</td>\n",
       "      <td>34262.00</td>\n",
       "      <td>28378.00</td>\n",
       "    </tr>\n",
       "  </tbody>\n",
       "</table>\n",
       "</div>"
      ],
      "text/plain": [
       "         Year  Importer reported quantity  Exporter reported quantity\n",
       "count 6056.00                     6056.00                     6056.00\n",
       "mean  2016.00                      509.79                      629.52\n",
       "std      0.00                     2009.85                     2227.83\n",
       "min   2016.00                        1.07                        1.14\n",
       "25%   2016.00                        8.00                        9.00\n",
       "50%   2016.00                       32.00                       42.00\n",
       "75%   2016.00                      174.00                      243.00\n",
       "max   2016.00                    34262.00                    28378.00"
      ]
     },
     "execution_count": 12,
     "metadata": {},
     "output_type": "execute_result"
    }
   ],
   "source": [
    "model_df.describe()"
   ]
  },
  {
   "cell_type": "code",
   "execution_count": 13,
   "id": "21c7f1c4-3ac7-4efd-abf5-5e54eeab23c0",
   "metadata": {},
   "outputs": [],
   "source": [
    "def split_data():\n",
    "    X = model_df.drop(\"App.\",axis=1)\n",
    "    y = model_df[\"App.\"] \n",
    "    return train_test_split(X, y,test_size=0.3,random_state =42) "
   ]
  },
  {
   "cell_type": "code",
   "execution_count": 14,
   "id": "14970df1-a866-4531-a53d-3797771d1b72",
   "metadata": {},
   "outputs": [],
   "source": [
    "def resample():\n",
    "    X_train = split_data()[0]\n",
    "    y_train = split_data()[2]\n",
    "    X_train_over, y_train_over = RandomOverSampler(random_state=42).fit_resample(X_train,y_train)\n",
    "    return X_train_over, y_train_over"
   ]
  },
  {
   "cell_type": "code",
   "execution_count": 15,
   "id": "79fd84ea-9c6c-4da8-bf5d-25a75b66a492",
   "metadata": {},
   "outputs": [],
   "source": [
    "def build_model(voting=\"hard\"):\n",
    "    estimator = [] \n",
    "    estimator.append(('LR',  \n",
    "                      LogisticRegression(solver ='lbfgs',  \n",
    "                                         multi_class ='multinomial',  \n",
    "                                         max_iter = 200))) \n",
    "    estimator.append(('SVC', SVC(gamma ='auto', probability = True))) \n",
    "    estimator.append(('DTC', DecisionTreeClassifier(max_depth=10))) \n",
    "    estimator.append(('RFC', RandomForestClassifier(random_state=42))) \n",
    "    estimator.append(('GBC', GradientBoostingClassifier()))\n",
    "\n",
    "    # Voting Classifier with hard voting \n",
    "    # Build Model\n",
    "    model = make_pipeline(\n",
    "        OrdinalEncoder(), \n",
    "        VotingClassifier(estimators = estimator, voting = voting) \n",
    "    )\n",
    "    X_train_over, y_train_over = resample()\n",
    "    model.fit(X_train_over, y_train_over)\n",
    "    return model"
   ]
  },
  {
   "cell_type": "code",
   "execution_count": 16,
   "id": "8bf69dd6-7d47-4fdd-8396-a1e86c0dedf1",
   "metadata": {},
   "outputs": [],
   "source": [
    "model = build_model()"
   ]
  },
  {
   "cell_type": "code",
   "execution_count": 18,
   "id": "a9ff2ba6-7597-4198-bb98-83a6d84dac94",
   "metadata": {},
   "outputs": [],
   "source": [
    " X_train, X_test, y_train, y_test = split_data()"
   ]
  },
  {
   "cell_type": "code",
   "execution_count": 19,
   "id": "4dca395a-d1ce-4a58-9b29-fb5c5f81398c",
   "metadata": {},
   "outputs": [
    {
     "name": "stdout",
     "output_type": "stream",
     "text": [
      "Test Accuracy: 0.97\n"
     ]
    }
   ],
   "source": [
    "y_pred = model.predict(X_test)\n",
    "print(\"Test Accuracy:\", round(accuracy_score(y_test, y_pred), 2))"
   ]
  },
  {
   "cell_type": "code",
   "execution_count": 20,
   "id": "a8bcf803-37f1-47e1-9ce2-2849b3e983c5",
   "metadata": {},
   "outputs": [
    {
     "name": "stdout",
     "output_type": "stream",
     "text": [
      "Train Accuracy: 0.99\n"
     ]
    }
   ],
   "source": [
    "print(\"Train Accuracy:\", round(model.score(X_train, y_train), 2))"
   ]
  },
  {
   "cell_type": "code",
   "execution_count": 21,
   "id": "681f16c5-71f1-44b5-83c8-ebfec918073f",
   "metadata": {},
   "outputs": [
    {
     "name": "stdout",
     "output_type": "stream",
     "text": [
      "              precision    recall  f1-score   support\n",
      "\n",
      "           I       0.91      0.89      0.90       130\n",
      "          II       0.99      0.99      0.99      1663\n",
      "         III       0.56      0.62      0.59        24\n",
      "\n",
      "    accuracy                           0.97      1817\n",
      "   macro avg       0.82      0.83      0.82      1817\n",
      "weighted avg       0.97      0.97      0.97      1817\n",
      "\n"
     ]
    }
   ],
   "source": [
    "print(classification_report(y_test,model.predict(X_test)))"
   ]
  },
  {
   "cell_type": "code",
   "execution_count": 62,
   "id": "f354535f-5402-4fd7-aa95-041f5f226cd0",
   "metadata": {},
   "outputs": [
    {
     "data": {
      "text/plain": [
       "['Year',\n",
       " 'Taxon',\n",
       " 'Class',\n",
       " 'Order',\n",
       " 'Family',\n",
       " 'Genus',\n",
       " 'Importer',\n",
       " 'Exporter',\n",
       " 'Importer reported quantity',\n",
       " 'Exporter reported quantity',\n",
       " 'Term',\n",
       " 'Purpose',\n",
       " 'Source']"
      ]
     },
     "execution_count": 62,
     "metadata": {},
     "output_type": "execute_result"
    }
   ],
   "source": [
    "model.feature_names_in_"
   ]
  },
  {
   "cell_type": "code",
   "execution_count": 63,
   "id": "d07c5db0-ffb0-428c-b79a-c5f04bce73c5",
   "metadata": {},
   "outputs": [
    {
     "data": {
      "text/plain": [
       "Index(['Year', 'Taxon', 'Class', 'Order', 'Family', 'Genus', 'Importer',\n",
       "       'Exporter', 'Importer reported quantity', 'Exporter reported quantity',\n",
       "       'Term', 'Purpose', 'Source'],\n",
       "      dtype='object')"
      ]
     },
     "execution_count": 63,
     "metadata": {},
     "output_type": "execute_result"
    }
   ],
   "source": [
    "X_train_over.columns"
   ]
  },
  {
   "cell_type": "code",
   "execution_count": 82,
   "id": "beaa6236-156d-4fa5-8749-b9a8443b2d7b",
   "metadata": {},
   "outputs": [
    {
     "data": {
      "text/plain": [
       "True"
      ]
     },
     "execution_count": 82,
     "metadata": {},
     "output_type": "execute_result"
    }
   ],
   "source": [
    "# Checking to see if the features are same as the training data columns\n",
    "all(model.feature_names_in_) == all(X_train_over.columns)"
   ]
  },
  {
   "cell_type": "code",
   "execution_count": 70,
   "id": "6eb90c8f-1795-4241-8f68-ed808a3458e7",
   "metadata": {
    "tags": []
   },
   "outputs": [
    {
     "data": {
      "text/plain": [
       "[LogisticRegression(max_iter=200, multi_class='multinomial'),\n",
       " SVC(gamma='auto', probability=True),\n",
       " DecisionTreeClassifier(max_depth=10),\n",
       " RandomForestClassifier(random_state=42),\n",
       " GradientBoostingClassifier()]"
      ]
     },
     "execution_count": 70,
     "metadata": {},
     "output_type": "execute_result"
    }
   ],
   "source": [
    "model.named_steps[\"votingclassifier\"].estimators_"
   ]
  },
  {
   "cell_type": "code",
   "execution_count": 71,
   "id": "a5939a3e-1799-4334-b861-2ff1b1f2db9b",
   "metadata": {},
   "outputs": [],
   "source": [
    "for model in model.named_steps[\"votingclassifier\"].estimators_:\n",
    "    if hasattr(model, 'feature_importances_'):\n",
    "        feature_importances_model = model.feature_importances_"
   ]
  },
  {
   "cell_type": "code",
   "execution_count": 106,
   "id": "c3ab01bc-aa59-4e13-b0d8-e649edf864e6",
   "metadata": {},
   "outputs": [],
   "source": [
    "# Get feature names from training data\n",
    "features = model.feature_names_in_\n",
    "\n",
    "# Create a series with feature names and importances\n",
    "feat_imp = pd.Series(feature_importances_model,index=features).sort_values(ascending=False)"
   ]
  },
  {
   "cell_type": "code",
   "execution_count": 107,
   "id": "ee9c895b-7771-4a9c-b935-5a404b6fcd7a",
   "metadata": {},
   "outputs": [
    {
     "data": {
      "text/plain": [
       "Family                       0.34\n",
       "Source                       0.18\n",
       "Purpose                      0.14\n",
       "Term                         0.11\n",
       "Order                        0.07\n",
       "Exporter                     0.04\n",
       "Class                        0.04\n",
       "Taxon                        0.03\n",
       "Genus                        0.03\n",
       "Exporter reported quantity   0.02\n",
       "Importer                     0.01\n",
       "Importer reported quantity   0.00\n",
       "Year                         0.00\n",
       "dtype: float64"
      ]
     },
     "execution_count": 107,
     "metadata": {},
     "output_type": "execute_result"
    }
   ],
   "source": [
    "feat_imp"
   ]
  },
  {
   "cell_type": "code",
   "execution_count": 105,
   "id": "c484983c-0a07-475c-903b-b7c214ac2891",
   "metadata": {},
   "outputs": [
    {
     "data": {
      "image/png": "[encoded data removed]",
      "text/plain": [
       "<Figure size 720x576 with 1 Axes>"
      ]
     },
     "metadata": {
      "needs_background": "light"
     },
     "output_type": "display_data"
    }
   ],
   "source": [
    "import seaborn as sns\n",
    "# Create a horizontal bar plot\n",
    "plt.figure(figsize=(10,8))\n",
    "sns.barplot(x=feat_imp.values, y=feat_imp.index, orient='h',color=sns.color_palette()[0])\n",
    "plt.xlabel(\"Gini Importance\")\n",
    "plt.ylabel(\"Features\")\n",
    "plt.title(\"Feature Importance\");"
   ]
  },
  {
   "cell_type": "code",
   "execution_count": 104,
   "id": "9fc70b38-9c0d-4e99-8f15-983226c6c476",
   "metadata": {},
   "outputs": [
    {
     "data": {
      "text/html": [
       "<svg  width=\"550\" height=\"55\"><rect x=\"0\" y=\"0\" width=\"55\" height=\"55\" style=\"fill:#1f77b4;stroke-width:2;stroke:rgb(255,255,255)\"/><rect x=\"55\" y=\"0\" width=\"55\" height=\"55\" style=\"fill:#ff7f0e;stroke-width:2;stroke:rgb(255,255,255)\"/><rect x=\"110\" y=\"0\" width=\"55\" height=\"55\" style=\"fill:#2ca02c;stroke-width:2;stroke:rgb(255,255,255)\"/><rect x=\"165\" y=\"0\" width=\"55\" height=\"55\" style=\"fill:#d62728;stroke-width:2;stroke:rgb(255,255,255)\"/><rect x=\"220\" y=\"0\" width=\"55\" height=\"55\" style=\"fill:#9467bd;stroke-width:2;stroke:rgb(255,255,255)\"/><rect x=\"275\" y=\"0\" width=\"55\" height=\"55\" style=\"fill:#8c564b;stroke-width:2;stroke:rgb(255,255,255)\"/><rect x=\"330\" y=\"0\" width=\"55\" height=\"55\" style=\"fill:#e377c2;stroke-width:2;stroke:rgb(255,255,255)\"/><rect x=\"385\" y=\"0\" width=\"55\" height=\"55\" style=\"fill:#7f7f7f;stroke-width:2;stroke:rgb(255,255,255)\"/><rect x=\"440\" y=\"0\" width=\"55\" height=\"55\" style=\"fill:#bcbd22;stroke-width:2;stroke:rgb(255,255,255)\"/><rect x=\"495\" y=\"0\" width=\"55\" height=\"55\" style=\"fill:#17becf;stroke-width:2;stroke:rgb(255,255,255)\"/></svg>"
      ],
      "text/plain": [
       "[(0.12156862745098039, 0.4666666666666667, 0.7058823529411765),\n",
       " (1.0, 0.4980392156862745, 0.054901960784313725),\n",
       " (0.17254901960784313, 0.6274509803921569, 0.17254901960784313),\n",
       " (0.8392156862745098, 0.15294117647058825, 0.1568627450980392),\n",
       " (0.5803921568627451, 0.403921568627451, 0.7411764705882353),\n",
       " (0.5490196078431373, 0.33725490196078434, 0.29411764705882354),\n",
       " (0.8901960784313725, 0.4666666666666667, 0.7607843137254902),\n",
       " (0.4980392156862745, 0.4980392156862745, 0.4980392156862745),\n",
       " (0.7372549019607844, 0.7411764705882353, 0.13333333333333333),\n",
       " (0.09019607843137255, 0.7450980392156863, 0.8117647058823529)]"
      ]
     },
     "execution_count": 104,
     "metadata": {},
     "output_type": "execute_result"
    }
   ],
   "source": [
    "sns.color_palette()"
   ]
  },
  {
   "cell_type": "markdown",
   "id": "1cc44e9e-6717-4ca0-816b-6bde1a2cd46d",
   "metadata": {},
   "source": [
    "### Checking model deserialization"
   ]
  },
  {
   "cell_type": "code",
   "execution_count": 45,
   "id": "1400b4fb-c912-4322-a190-1dba42b075ca",
   "metadata": {},
   "outputs": [],
   "source": [
    "model_path = 'model_2023-10-28T14:36:54.764493.pkl'\n",
    "\n",
    "# Load the model from the file\n",
    "with open(model_path, 'rb') as file:\n",
    "    loaded_model = pickle.load(file)"
   ]
  },
  {
   "cell_type": "code",
   "execution_count": 46,
   "id": "f7f5b553-ba00-4926-a99b-09ea1abad383",
   "metadata": {},
   "outputs": [
    {
     "data": {
      "text/html": [
       "<style>#sk-container-id-7 {color: black;}#sk-container-id-7 pre{padding: 0;}#sk-container-id-7 div.sk-toggleable {background-color: white;}#sk-container-id-7 label.sk-toggleable__label {cursor: pointer;display: block;width: 100%;margin-bottom: 0;padding: 0.3em;box-sizing: border-box;text-align: center;}#sk-container-id-7 label.sk-toggleable__label-arrow:before {content: \"▸\";float: left;margin-right: 0.25em;color: #696969;}#sk-container-id-7 label.sk-toggleable__label-arrow:hover:before {color: black;}#sk-container-id-7 div.sk-estimator:hover label.sk-toggleable__label-arrow:before {color: black;}#sk-container-id-7 div.sk-toggleable__content {max-height: 0;max-width: 0;overflow: hidden;text-align: left;background-color: #f0f8ff;}#sk-container-id-7 div.sk-toggleable__content pre {margin: 0.2em;color: black;border-radius: 0.25em;background-color: #f0f8ff;}#sk-container-id-7 input.sk-toggleable__control:checked~div.sk-toggleable__content {max-height: 200px;max-width: 100%;overflow: auto;}#sk-container-id-7 input.sk-toggleable__control:checked~label.sk-toggleable__label-arrow:before {content: \"▾\";}#sk-container-id-7 div.sk-estimator input.sk-toggleable__control:checked~label.sk-toggleable__label {background-color: #d4ebff;}#sk-container-id-7 div.sk-label input.sk-toggleable__control:checked~label.sk-toggleable__label {background-color: #d4ebff;}#sk-container-id-7 input.sk-hidden--visually {border: 0;clip: rect(1px 1px 1px 1px);clip: rect(1px, 1px, 1px, 1px);height: 1px;margin: -1px;overflow: hidden;padding: 0;position: absolute;width: 1px;}#sk-container-id-7 div.sk-estimator {font-family: monospace;background-color: #f0f8ff;border: 1px dotted black;border-radius: 0.25em;box-sizing: border-box;margin-bottom: 0.5em;}#sk-container-id-7 div.sk-estimator:hover {background-color: #d4ebff;}#sk-container-id-7 div.sk-parallel-item::after {content: \"\";width: 100%;border-bottom: 1px solid gray;flex-grow: 1;}#sk-container-id-7 div.sk-label:hover label.sk-toggleable__label {background-color: #d4ebff;}#sk-container-id-7 div.sk-serial::before {content: \"\";position: absolute;border-left: 1px solid gray;box-sizing: border-box;top: 0;bottom: 0;left: 50%;z-index: 0;}#sk-container-id-7 div.sk-serial {display: flex;flex-direction: column;align-items: center;background-color: white;padding-right: 0.2em;padding-left: 0.2em;position: relative;}#sk-container-id-7 div.sk-item {position: relative;z-index: 1;}#sk-container-id-7 div.sk-parallel {display: flex;align-items: stretch;justify-content: center;background-color: white;position: relative;}#sk-container-id-7 div.sk-item::before, #sk-container-id-7 div.sk-parallel-item::before {content: \"\";position: absolute;border-left: 1px solid gray;box-sizing: border-box;top: 0;bottom: 0;left: 50%;z-index: -1;}#sk-container-id-7 div.sk-parallel-item {display: flex;flex-direction: column;z-index: 1;position: relative;background-color: white;}#sk-container-id-7 div.sk-parallel-item:first-child::after {align-self: flex-end;width: 50%;}#sk-container-id-7 div.sk-parallel-item:last-child::after {align-self: flex-start;width: 50%;}#sk-container-id-7 div.sk-parallel-item:only-child::after {width: 0;}#sk-container-id-7 div.sk-dashed-wrapped {border: 1px dashed gray;margin: 0 0.4em 0.5em 0.4em;box-sizing: border-box;padding-bottom: 0.4em;background-color: white;}#sk-container-id-7 div.sk-label label {font-family: monospace;font-weight: bold;display: inline-block;line-height: 1.2em;}#sk-container-id-7 div.sk-label-container {text-align: center;}#sk-container-id-7 div.sk-container {/* jupyter's `normalize.less` sets `[hidden] { display: none; }` but bootstrap.min.css set `[hidden] { display: none !important; }` so we also need the `!important` here to be able to override the default hidden behavior on the sphinx rendered scikit-learn.org. See: https://github.com/scikit-learn/scikit-learn/issues/21755 */display: inline-block !important;position: relative;}#sk-container-id-7 div.sk-text-repr-fallback {display: none;}</style><div id=\"sk-container-id-7\" class=\"sk-top-container\"><div class=\"sk-text-repr-fallback\"><pre>Pipeline(steps=[(&#x27;ordinalencoder&#x27;,\n",
       "                 OrdinalEncoder(cols=[&#x27;Taxon&#x27;, &#x27;Class&#x27;, &#x27;Order&#x27;, &#x27;Family&#x27;,\n",
       "                                      &#x27;Genus&#x27;, &#x27;Importer&#x27;, &#x27;Exporter&#x27;, &#x27;Term&#x27;,\n",
       "                                      &#x27;Purpose&#x27;, &#x27;Source&#x27;],\n",
       "                                mapping=[{&#x27;col&#x27;: &#x27;Taxon&#x27;,\n",
       "                                          &#x27;data_type&#x27;: dtype(&#x27;O&#x27;),\n",
       "                                          &#x27;mapping&#x27;: Crocodylus novaeguineae        1\n",
       "Pecari tajacu                  2\n",
       "Platycercus elegans            3\n",
       "Python reticulatus             4\n",
       "Tupinambis teguixin            5\n",
       "                            ... \n",
       "Melanosuchus niger           680\n",
       "Tupaia montana               681\n",
       "Callithrix pygmaea...\n",
       "                                          &#x27;data_type&#x27;: dtype(&#x27;O&#x27;),\n",
       "                                          &#x27;mapping&#x27;: W      1\n",
       "C      2\n",
       "F      3\n",
       "R      4\n",
       "D      5\n",
       "O      6\n",
       "I      7\n",
       "U      8\n",
       "NaN   -2\n",
       "dtype: int64}])),\n",
       "                (&#x27;votingclassifier&#x27;,\n",
       "                 VotingClassifier(estimators=[(&#x27;LR&#x27;,\n",
       "                                               LogisticRegression(max_iter=200,\n",
       "                                                                  multi_class=&#x27;multinomial&#x27;)),\n",
       "                                              (&#x27;SVC&#x27;,\n",
       "                                               SVC(gamma=&#x27;auto&#x27;,\n",
       "                                                   probability=True)),\n",
       "                                              (&#x27;DTC&#x27;,\n",
       "                                               DecisionTreeClassifier(max_depth=10)),\n",
       "                                              (&#x27;RFC&#x27;,\n",
       "                                               RandomForestClassifier(random_state=42)),\n",
       "                                              (&#x27;GBC&#x27;,\n",
       "                                               GradientBoostingClassifier())]))])</pre><b>In a Jupyter environment, please rerun this cell to show the HTML representation or trust the notebook. <br />On GitHub, the HTML representation is unable to render, please try loading this page with nbviewer.org.</b></div><div class=\"sk-container\" hidden><div class=\"sk-item sk-dashed-wrapped\"><div class=\"sk-label-container\"><div class=\"sk-label sk-toggleable\"><input class=\"sk-toggleable__control sk-hidden--visually\" id=\"sk-estimator-id-21\" type=\"checkbox\" ><label for=\"sk-estimator-id-21\" class=\"sk-toggleable__label sk-toggleable__label-arrow\">Pipeline</label><div class=\"sk-toggleable__content\"><pre>Pipeline(steps=[(&#x27;ordinalencoder&#x27;,\n",
       "                 OrdinalEncoder(cols=[&#x27;Taxon&#x27;, &#x27;Class&#x27;, &#x27;Order&#x27;, &#x27;Family&#x27;,\n",
       "                                      &#x27;Genus&#x27;, &#x27;Importer&#x27;, &#x27;Exporter&#x27;, &#x27;Term&#x27;,\n",
       "                                      &#x27;Purpose&#x27;, &#x27;Source&#x27;],\n",
       "                                mapping=[{&#x27;col&#x27;: &#x27;Taxon&#x27;,\n",
       "                                          &#x27;data_type&#x27;: dtype(&#x27;O&#x27;),\n",
       "                                          &#x27;mapping&#x27;: Crocodylus novaeguineae        1\n",
       "Pecari tajacu                  2\n",
       "Platycercus elegans            3\n",
       "Python reticulatus             4\n",
       "Tupinambis teguixin            5\n",
       "                            ... \n",
       "Melanosuchus niger           680\n",
       "Tupaia montana               681\n",
       "Callithrix pygmaea...\n",
       "                                          &#x27;data_type&#x27;: dtype(&#x27;O&#x27;),\n",
       "                                          &#x27;mapping&#x27;: W      1\n",
       "C      2\n",
       "F      3\n",
       "R      4\n",
       "D      5\n",
       "O      6\n",
       "I      7\n",
       "U      8\n",
       "NaN   -2\n",
       "dtype: int64}])),\n",
       "                (&#x27;votingclassifier&#x27;,\n",
       "                 VotingClassifier(estimators=[(&#x27;LR&#x27;,\n",
       "                                               LogisticRegression(max_iter=200,\n",
       "                                                                  multi_class=&#x27;multinomial&#x27;)),\n",
       "                                              (&#x27;SVC&#x27;,\n",
       "                                               SVC(gamma=&#x27;auto&#x27;,\n",
       "                                                   probability=True)),\n",
       "                                              (&#x27;DTC&#x27;,\n",
       "                                               DecisionTreeClassifier(max_depth=10)),\n",
       "                                              (&#x27;RFC&#x27;,\n",
       "                                               RandomForestClassifier(random_state=42)),\n",
       "                                              (&#x27;GBC&#x27;,\n",
       "                                               GradientBoostingClassifier())]))])</pre></div></div></div><div class=\"sk-serial\"><div class=\"sk-item\"><div class=\"sk-estimator sk-toggleable\"><input class=\"sk-toggleable__control sk-hidden--visually\" id=\"sk-estimator-id-22\" type=\"checkbox\" ><label for=\"sk-estimator-id-22\" class=\"sk-toggleable__label sk-toggleable__label-arrow\">OrdinalEncoder</label><div class=\"sk-toggleable__content\"><pre>OrdinalEncoder(cols=[&#x27;Taxon&#x27;, &#x27;Class&#x27;, &#x27;Order&#x27;, &#x27;Family&#x27;, &#x27;Genus&#x27;, &#x27;Importer&#x27;,\n",
       "                     &#x27;Exporter&#x27;, &#x27;Term&#x27;, &#x27;Purpose&#x27;, &#x27;Source&#x27;],\n",
       "               mapping=[{&#x27;col&#x27;: &#x27;Taxon&#x27;, &#x27;data_type&#x27;: dtype(&#x27;O&#x27;),\n",
       "                         &#x27;mapping&#x27;: Crocodylus novaeguineae        1\n",
       "Pecari tajacu                  2\n",
       "Platycercus elegans            3\n",
       "Python reticulatus             4\n",
       "Tupinambis teguixin            5\n",
       "                            ... \n",
       "Melanosuchus niger           680\n",
       "Tupaia montana               681\n",
       "Callithrix pygmaea           682\n",
       "Phelsuma madagascariensis    683\n",
       "NaN                           -...\n",
       "carvings                    24\n",
       "fins                        25\n",
       "skulls                      26\n",
       "plates                      27\n",
       "medicine                    28\n",
       "jewellery                   29\n",
       "horns                       30\n",
       "oil                         31\n",
       "derivatives                 32\n",
       "extract                     33\n",
       "gall bladders               34\n",
       "fur product (small)         35\n",
       "baleen                      36\n",
       "sides                       37\n",
       "pearl                       38\n",
       "eggs (live)                 39\n",
       "bones                       40\n",
       "NaN                         -2\n",
       "dtype: int64},\n",
       "                        {&#x27;col&#x27;: &#x27;Purpose&#x27;, &#x27;data_type&#x27;: dtype(&#x27;O&#x27;),\n",
       "                         &#x27;mapping&#x27;: T       1\n",
       "Z       2\n",
       "S       3\n",
       "B       4\n",
       "M       5\n",
       "P       6\n",
       "H       7\n",
       "Q       8\n",
       "N       9\n",
       "E      10\n",
       "NaN    -2\n",
       "dtype: int64},\n",
       "                        {&#x27;col&#x27;: &#x27;Source&#x27;, &#x27;data_type&#x27;: dtype(&#x27;O&#x27;),\n",
       "                         &#x27;mapping&#x27;: W      1\n",
       "C      2\n",
       "F      3\n",
       "R      4\n",
       "D      5\n",
       "O      6\n",
       "I      7\n",
       "U      8\n",
       "NaN   -2\n",
       "dtype: int64}])</pre></div></div></div><div class=\"sk-item sk-dashed-wrapped\"><div class=\"sk-label-container\"><div class=\"sk-label sk-toggleable\"><input class=\"sk-toggleable__control sk-hidden--visually\" id=\"sk-estimator-id-23\" type=\"checkbox\" ><label for=\"sk-estimator-id-23\" class=\"sk-toggleable__label sk-toggleable__label-arrow\">votingclassifier: VotingClassifier</label><div class=\"sk-toggleable__content\"><pre>VotingClassifier(estimators=[(&#x27;LR&#x27;,\n",
       "                              LogisticRegression(max_iter=200,\n",
       "                                                 multi_class=&#x27;multinomial&#x27;)),\n",
       "                             (&#x27;SVC&#x27;, SVC(gamma=&#x27;auto&#x27;, probability=True)),\n",
       "                             (&#x27;DTC&#x27;, DecisionTreeClassifier(max_depth=10)),\n",
       "                             (&#x27;RFC&#x27;, RandomForestClassifier(random_state=42)),\n",
       "                             (&#x27;GBC&#x27;, GradientBoostingClassifier())])</pre></div></div></div><div class=\"sk-parallel\"><div class=\"sk-parallel-item\"><div class=\"sk-item\"><div class=\"sk-label-container\"><div class=\"sk-label sk-toggleable\"><label>LR</label></div></div><div class=\"sk-serial\"><div class=\"sk-item\"><div class=\"sk-estimator sk-toggleable\"><input class=\"sk-toggleable__control sk-hidden--visually\" id=\"sk-estimator-id-24\" type=\"checkbox\" ><label for=\"sk-estimator-id-24\" class=\"sk-toggleable__label sk-toggleable__label-arrow\">LogisticRegression</label><div class=\"sk-toggleable__content\"><pre>LogisticRegression(max_iter=200, multi_class=&#x27;multinomial&#x27;)</pre></div></div></div></div></div></div><div class=\"sk-parallel-item\"><div class=\"sk-item\"><div class=\"sk-label-container\"><div class=\"sk-label sk-toggleable\"><label>SVC</label></div></div><div class=\"sk-serial\"><div class=\"sk-item\"><div class=\"sk-estimator sk-toggleable\"><input class=\"sk-toggleable__control sk-hidden--visually\" id=\"sk-estimator-id-25\" type=\"checkbox\" ><label for=\"sk-estimator-id-25\" class=\"sk-toggleable__label sk-toggleable__label-arrow\">SVC</label><div class=\"sk-toggleable__content\"><pre>SVC(gamma=&#x27;auto&#x27;, probability=True)</pre></div></div></div></div></div></div><div class=\"sk-parallel-item\"><div class=\"sk-item\"><div class=\"sk-label-container\"><div class=\"sk-label sk-toggleable\"><label>DTC</label></div></div><div class=\"sk-serial\"><div class=\"sk-item\"><div class=\"sk-estimator sk-toggleable\"><input class=\"sk-toggleable__control sk-hidden--visually\" id=\"sk-estimator-id-26\" type=\"checkbox\" ><label for=\"sk-estimator-id-26\" class=\"sk-toggleable__label sk-toggleable__label-arrow\">DecisionTreeClassifier</label><div class=\"sk-toggleable__content\"><pre>DecisionTreeClassifier(max_depth=10)</pre></div></div></div></div></div></div><div class=\"sk-parallel-item\"><div class=\"sk-item\"><div class=\"sk-label-container\"><div class=\"sk-label sk-toggleable\"><label>RFC</label></div></div><div class=\"sk-serial\"><div class=\"sk-item\"><div class=\"sk-estimator sk-toggleable\"><input class=\"sk-toggleable__control sk-hidden--visually\" id=\"sk-estimator-id-27\" type=\"checkbox\" ><label for=\"sk-estimator-id-27\" class=\"sk-toggleable__label sk-toggleable__label-arrow\">RandomForestClassifier</label><div class=\"sk-toggleable__content\"><pre>RandomForestClassifier(random_state=42)</pre></div></div></div></div></div></div><div class=\"sk-parallel-item\"><div class=\"sk-item\"><div class=\"sk-label-container\"><div class=\"sk-label sk-toggleable\"><label>GBC</label></div></div><div class=\"sk-serial\"><div class=\"sk-item\"><div class=\"sk-estimator sk-toggleable\"><input class=\"sk-toggleable__control sk-hidden--visually\" id=\"sk-estimator-id-28\" type=\"checkbox\" ><label for=\"sk-estimator-id-28\" class=\"sk-toggleable__label sk-toggleable__label-arrow\">GradientBoostingClassifier</label><div class=\"sk-toggleable__content\"><pre>GradientBoostingClassifier()</pre></div></div></div></div></div></div></div></div></div></div></div></div>"
      ],
      "text/plain": [
       "Pipeline(steps=[('ordinalencoder',\n",
       "                 OrdinalEncoder(cols=['Taxon', 'Class', 'Order', 'Family',\n",
       "                                      'Genus', 'Importer', 'Exporter', 'Term',\n",
       "                                      'Purpose', 'Source'],\n",
       "                                mapping=[{'col': 'Taxon',\n",
       "                                          'data_type': dtype('O'),\n",
       "                                          'mapping': Crocodylus novaeguineae        1\n",
       "Pecari tajacu                  2\n",
       "Platycercus elegans            3\n",
       "Python reticulatus             4\n",
       "Tupinambis teguixin            5\n",
       "                            ... \n",
       "Melanosuchus niger           680\n",
       "Tupaia montana               681\n",
       "Callithrix pygmaea...\n",
       "                                          'data_type': dtype('O'),\n",
       "                                          'mapping': W      1\n",
       "C      2\n",
       "F      3\n",
       "R      4\n",
       "D      5\n",
       "O      6\n",
       "I      7\n",
       "U      8\n",
       "NaN   -2\n",
       "dtype: int64}])),\n",
       "                ('votingclassifier',\n",
       "                 VotingClassifier(estimators=[('LR',\n",
       "                                               LogisticRegression(max_iter=200,\n",
       "                                                                  multi_class='multinomial')),\n",
       "                                              ('SVC',\n",
       "                                               SVC(gamma='auto',\n",
       "                                                   probability=True)),\n",
       "                                              ('DTC',\n",
       "                                               DecisionTreeClassifier(max_depth=10)),\n",
       "                                              ('RFC',\n",
       "                                               RandomForestClassifier(random_state=42)),\n",
       "                                              ('GBC',\n",
       "                                               GradientBoostingClassifier())]))])"
      ]
     },
     "execution_count": 46,
     "metadata": {},
     "output_type": "execute_result"
    }
   ],
   "source": [
    "loaded_model"
   ]
  },
  {
   "cell_type": "code",
   "execution_count": 47,
   "id": "74d2053c-928d-437b-8ae2-a56117102ef5",
   "metadata": {},
   "outputs": [
    {
     "data": {
      "text/plain": [
       "0.9757842597688497"
      ]
     },
     "execution_count": 47,
     "metadata": {},
     "output_type": "execute_result"
    }
   ],
   "source": [
    "loaded_model.score(X_test, y_test)"
   ]
  },
  {
   "cell_type": "code",
   "execution_count": null,
   "id": "1fb8fde5-aa42-426c-971b-4052cdabfb45",
   "metadata": {},
   "outputs": [],
   "source": []
  }
 ],
 "metadata": {
  "kernelspec": {
   "display_name": "Python 3 (ipykernel)",
   "language": "python",
   "name": "python3"
  },
  "language_info": {
   "codemirror_mode": {
    "name": "ipython",
    "version": 3
   },
   "file_extension": ".py",
   "mimetype": "text/x-python",
   "name": "python",
   "nbconvert_exporter": "python",
   "pygments_lexer": "ipython3",
   "version": "3.9.12"
  },
  "widgets": {
   "application/vnd.jupyter.widget-state+json": {
    "state": {},
    "version_major": 2,
    "version_minor": 0
   }
  }
 },
 "nbformat": 4,
 "nbformat_minor": 5
}
