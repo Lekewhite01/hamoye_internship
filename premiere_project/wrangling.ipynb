{
 "cells": [
  {
   "cell_type": "code",
   "execution_count": 1,
   "id": "76c9d8eb-f63d-4a89-bd40-bd5b80452c38",
   "metadata": {},
   "outputs": [],
   "source": [
    "import pandas as pd\n",
    "import numpy as np\n",
    "import joblib\n",
    "import matplotlib.pyplot as plt\n",
    "import warnings\n",
    "import pickle\n",
    "from numpy import percentile\n",
    "from imblearn.over_sampling import RandomOverSampler\n",
    "from sklearn.svm import SVC \n",
    "from sklearn.linear_model import LogisticRegression \n",
    "from sklearn.impute import SimpleImputer\n",
    "from sklearn.model_selection import train_test_split\n",
    "from sklearn.metrics import accuracy_score \n",
    "from sklearn.preprocessing import OneHotEncoder, RobustScaler \n",
    "from sklearn.tree import DecisionTreeClassifier, plot_tree\n",
    "from sklearn.ensemble import GradientBoostingClassifier, RandomForestClassifier, VotingClassifier \n",
    "from category_encoders import OrdinalEncoder\n",
    "from sklearn.pipeline import Pipeline, make_pipeline\n",
    "from sklearn.metrics import (\n",
    "    ConfusionMatrixDisplay,\n",
    "    classification_report,\n",
    "    confusion_matrix,\n",
    ")\n",
    "from lazypredict.Supervised import LazyClassifier\n",
    "warnings.filterwarnings('ignore')\n",
    "%matplotlib inline"
   ]
  },
  {
   "cell_type": "code",
   "execution_count": 2,
   "id": "b3190599-bc86-4b04-aa56-3efb885ed337",
   "metadata": {},
   "outputs": [],
   "source": [
    "df = pd.read_csv('train/comptab_2018-01-29 16_00_comma_separated.csv')"
   ]
  },
  {
   "cell_type": "code",
   "execution_count": 3,
   "id": "546f910e-857c-4b91-b93e-9bf69f8014b9",
   "metadata": {},
   "outputs": [
    {
     "data": {
      "text/html": [
       "<div>\n",
       "<style scoped>\n",
       "    .dataframe tbody tr th:only-of-type {\n",
       "        vertical-align: middle;\n",
       "    }\n",
       "\n",
       "    .dataframe tbody tr th {\n",
       "        vertical-align: top;\n",
       "    }\n",
       "\n",
       "    .dataframe thead th {\n",
       "        text-align: right;\n",
       "    }\n",
       "</style>\n",
       "<table border=\"1\" class=\"dataframe\">\n",
       "  <thead>\n",
       "    <tr style=\"text-align: right;\">\n",
       "      <th></th>\n",
       "      <th>Year</th>\n",
       "      <th>App.</th>\n",
       "      <th>Taxon</th>\n",
       "      <th>Class</th>\n",
       "      <th>Order</th>\n",
       "      <th>Family</th>\n",
       "      <th>Genus</th>\n",
       "      <th>Importer</th>\n",
       "      <th>Exporter</th>\n",
       "      <th>Origin</th>\n",
       "      <th>Importer reported quantity</th>\n",
       "      <th>Exporter reported quantity</th>\n",
       "      <th>Term</th>\n",
       "      <th>Unit</th>\n",
       "      <th>Purpose</th>\n",
       "      <th>Source</th>\n",
       "    </tr>\n",
       "  </thead>\n",
       "  <tbody>\n",
       "    <tr>\n",
       "      <th>0</th>\n",
       "      <td>2016</td>\n",
       "      <td>I</td>\n",
       "      <td>Aquila heliaca</td>\n",
       "      <td>Aves</td>\n",
       "      <td>Falconiformes</td>\n",
       "      <td>Accipitridae</td>\n",
       "      <td>Aquila</td>\n",
       "      <td>TR</td>\n",
       "      <td>NL</td>\n",
       "      <td>CZ</td>\n",
       "      <td>NaN</td>\n",
       "      <td>1.00</td>\n",
       "      <td>bodies</td>\n",
       "      <td>NaN</td>\n",
       "      <td>T</td>\n",
       "      <td>C</td>\n",
       "    </tr>\n",
       "    <tr>\n",
       "      <th>1</th>\n",
       "      <td>2016</td>\n",
       "      <td>I</td>\n",
       "      <td>Aquila heliaca</td>\n",
       "      <td>Aves</td>\n",
       "      <td>Falconiformes</td>\n",
       "      <td>Accipitridae</td>\n",
       "      <td>Aquila</td>\n",
       "      <td>XV</td>\n",
       "      <td>RS</td>\n",
       "      <td>RS</td>\n",
       "      <td>NaN</td>\n",
       "      <td>1.00</td>\n",
       "      <td>bodies</td>\n",
       "      <td>NaN</td>\n",
       "      <td>Q</td>\n",
       "      <td>O</td>\n",
       "    </tr>\n",
       "    <tr>\n",
       "      <th>2</th>\n",
       "      <td>2016</td>\n",
       "      <td>I</td>\n",
       "      <td>Haliaeetus albicilla</td>\n",
       "      <td>Aves</td>\n",
       "      <td>Falconiformes</td>\n",
       "      <td>Accipitridae</td>\n",
       "      <td>Haliaeetus</td>\n",
       "      <td>BE</td>\n",
       "      <td>NO</td>\n",
       "      <td>NaN</td>\n",
       "      <td>NaN</td>\n",
       "      <td>43.00</td>\n",
       "      <td>feathers</td>\n",
       "      <td>NaN</td>\n",
       "      <td>S</td>\n",
       "      <td>W</td>\n",
       "    </tr>\n",
       "    <tr>\n",
       "      <th>3</th>\n",
       "      <td>2016</td>\n",
       "      <td>I</td>\n",
       "      <td>Haliaeetus albicilla</td>\n",
       "      <td>Aves</td>\n",
       "      <td>Falconiformes</td>\n",
       "      <td>Accipitridae</td>\n",
       "      <td>Haliaeetus</td>\n",
       "      <td>BE</td>\n",
       "      <td>NO</td>\n",
       "      <td>NaN</td>\n",
       "      <td>NaN</td>\n",
       "      <td>43.00</td>\n",
       "      <td>specimens</td>\n",
       "      <td>NaN</td>\n",
       "      <td>S</td>\n",
       "      <td>W</td>\n",
       "    </tr>\n",
       "    <tr>\n",
       "      <th>4</th>\n",
       "      <td>2016</td>\n",
       "      <td>I</td>\n",
       "      <td>Haliaeetus albicilla</td>\n",
       "      <td>Aves</td>\n",
       "      <td>Falconiformes</td>\n",
       "      <td>Accipitridae</td>\n",
       "      <td>Haliaeetus</td>\n",
       "      <td>DK</td>\n",
       "      <td>IS</td>\n",
       "      <td>NaN</td>\n",
       "      <td>700.00</td>\n",
       "      <td>NaN</td>\n",
       "      <td>specimens</td>\n",
       "      <td>NaN</td>\n",
       "      <td>S</td>\n",
       "      <td>W</td>\n",
       "    </tr>\n",
       "  </tbody>\n",
       "</table>\n",
       "</div>"
      ],
      "text/plain": [
       "   Year App.                 Taxon Class          Order        Family  \\\n",
       "0  2016    I        Aquila heliaca  Aves  Falconiformes  Accipitridae   \n",
       "1  2016    I        Aquila heliaca  Aves  Falconiformes  Accipitridae   \n",
       "2  2016    I  Haliaeetus albicilla  Aves  Falconiformes  Accipitridae   \n",
       "3  2016    I  Haliaeetus albicilla  Aves  Falconiformes  Accipitridae   \n",
       "4  2016    I  Haliaeetus albicilla  Aves  Falconiformes  Accipitridae   \n",
       "\n",
       "        Genus Importer Exporter Origin  Importer reported quantity  \\\n",
       "0      Aquila       TR       NL     CZ                         NaN   \n",
       "1      Aquila       XV       RS     RS                         NaN   \n",
       "2  Haliaeetus       BE       NO    NaN                         NaN   \n",
       "3  Haliaeetus       BE       NO    NaN                         NaN   \n",
       "4  Haliaeetus       DK       IS    NaN                      700.00   \n",
       "\n",
       "   Exporter reported quantity       Term Unit Purpose Source  \n",
       "0                        1.00     bodies  NaN       T      C  \n",
       "1                        1.00     bodies  NaN       Q      O  \n",
       "2                       43.00   feathers  NaN       S      W  \n",
       "3                       43.00  specimens  NaN       S      W  \n",
       "4                         NaN  specimens  NaN       S      W  "
      ]
     },
     "execution_count": 3,
     "metadata": {},
     "output_type": "execute_result"
    }
   ],
   "source": [
    "df.head()"
   ]
  },
  {
   "cell_type": "code",
   "execution_count": 4,
   "id": "ceed4edc-b79c-4616-86bf-c5ab8cc9e5e5",
   "metadata": {},
   "outputs": [
    {
     "data": {
      "text/plain": [
       "array(['I', 'II', 'III', 'N'], dtype=object)"
      ]
     },
     "execution_count": 4,
     "metadata": {},
     "output_type": "execute_result"
    }
   ],
   "source": [
    "df[\"App.\"].unique()"
   ]
  },
  {
   "cell_type": "code",
   "execution_count": 5,
   "id": "9f01bd21-3491-4e72-a28a-da0506eeab97",
   "metadata": {},
   "outputs": [
    {
     "name": "stdout",
     "output_type": "stream",
     "text": [
      "<class 'pandas.core.frame.DataFrame'>\n",
      "RangeIndex: 67161 entries, 0 to 67160\n",
      "Data columns (total 16 columns):\n",
      " #   Column                      Non-Null Count  Dtype  \n",
      "---  ------                      --------------  -----  \n",
      " 0   Year                        67161 non-null  int64  \n",
      " 1   App.                        67161 non-null  object \n",
      " 2   Taxon                       67161 non-null  object \n",
      " 3   Class                       46937 non-null  object \n",
      " 4   Order                       67104 non-null  object \n",
      " 5   Family                      66700 non-null  object \n",
      " 6   Genus                       65702 non-null  object \n",
      " 7   Importer                    67090 non-null  object \n",
      " 8   Exporter                    66588 non-null  object \n",
      " 9   Origin                      25643 non-null  object \n",
      " 10  Importer reported quantity  31866 non-null  float64\n",
      " 11  Exporter reported quantity  44021 non-null  float64\n",
      " 12  Term                        67161 non-null  object \n",
      " 13  Unit                        6402 non-null   object \n",
      " 14  Purpose                     61102 non-null  object \n",
      " 15  Source                      66617 non-null  object \n",
      "dtypes: float64(2), int64(1), object(13)\n",
      "memory usage: 8.2+ MB\n"
     ]
    }
   ],
   "source": [
    "df.info()"
   ]
  },
  {
   "cell_type": "code",
   "execution_count": 6,
   "id": "23e28af2-a7f8-4ed6-b3cf-eb19f6fa34f2",
   "metadata": {},
   "outputs": [
    {
     "data": {
      "text/html": [
       "<div>\n",
       "<style scoped>\n",
       "    .dataframe tbody tr th:only-of-type {\n",
       "        vertical-align: middle;\n",
       "    }\n",
       "\n",
       "    .dataframe tbody tr th {\n",
       "        vertical-align: top;\n",
       "    }\n",
       "\n",
       "    .dataframe thead th {\n",
       "        text-align: right;\n",
       "    }\n",
       "</style>\n",
       "<table border=\"1\" class=\"dataframe\">\n",
       "  <thead>\n",
       "    <tr style=\"text-align: right;\">\n",
       "      <th></th>\n",
       "      <th>Year</th>\n",
       "      <th>Importer reported quantity</th>\n",
       "      <th>Exporter reported quantity</th>\n",
       "    </tr>\n",
       "  </thead>\n",
       "  <tbody>\n",
       "    <tr>\n",
       "      <th>count</th>\n",
       "      <td>67161.00</td>\n",
       "      <td>31866.00</td>\n",
       "      <td>44021.00</td>\n",
       "    </tr>\n",
       "    <tr>\n",
       "      <th>mean</th>\n",
       "      <td>2016.00</td>\n",
       "      <td>4382.43</td>\n",
       "      <td>4443.88</td>\n",
       "    </tr>\n",
       "    <tr>\n",
       "      <th>std</th>\n",
       "      <td>0.05</td>\n",
       "      <td>144910.27</td>\n",
       "      <td>157379.36</td>\n",
       "    </tr>\n",
       "    <tr>\n",
       "      <th>min</th>\n",
       "      <td>2016.00</td>\n",
       "      <td>0.00</td>\n",
       "      <td>0.00</td>\n",
       "    </tr>\n",
       "    <tr>\n",
       "      <th>25%</th>\n",
       "      <td>2016.00</td>\n",
       "      <td>3.00</td>\n",
       "      <td>2.00</td>\n",
       "    </tr>\n",
       "    <tr>\n",
       "      <th>50%</th>\n",
       "      <td>2016.00</td>\n",
       "      <td>12.00</td>\n",
       "      <td>12.00</td>\n",
       "    </tr>\n",
       "    <tr>\n",
       "      <th>75%</th>\n",
       "      <td>2016.00</td>\n",
       "      <td>80.00</td>\n",
       "      <td>82.00</td>\n",
       "    </tr>\n",
       "    <tr>\n",
       "      <th>max</th>\n",
       "      <td>2017.00</td>\n",
       "      <td>19524978.00</td>\n",
       "      <td>21543618.00</td>\n",
       "    </tr>\n",
       "  </tbody>\n",
       "</table>\n",
       "</div>"
      ],
      "text/plain": [
       "          Year  Importer reported quantity  Exporter reported quantity\n",
       "count 67161.00                    31866.00                    44021.00\n",
       "mean   2016.00                     4382.43                     4443.88\n",
       "std       0.05                   144910.27                   157379.36\n",
       "min    2016.00                        0.00                        0.00\n",
       "25%    2016.00                        3.00                        2.00\n",
       "50%    2016.00                       12.00                       12.00\n",
       "75%    2016.00                       80.00                       82.00\n",
       "max    2017.00                 19524978.00                 21543618.00"
      ]
     },
     "execution_count": 6,
     "metadata": {},
     "output_type": "execute_result"
    }
   ],
   "source": [
    "df.describe()"
   ]
  },
  {
   "cell_type": "code",
   "execution_count": 7,
   "id": "40f8a4f5-29c1-4988-951e-162765bfc127",
   "metadata": {},
   "outputs": [],
   "source": [
    "def data_wrangler(df, threshold=30000):\n",
    "    \"\"\"\n",
    "    Read and preprocess a CSV file to create a cleaned DataFrame.\n",
    "\n",
    "    Parameters:\n",
    "    - filename (str): The name of the CSV file to be read.\n",
    "    - threshold (int): The threshold for dropping columns with more than a set number of non-null values.\n",
    "\n",
    "    Returns:\n",
    "    - model_df (pandas.DataFrame): The cleaned DataFrame after preprocessing.\n",
    "    \"\"\"\n",
    "\n",
    "    # Read the CSV file into a DataFrame\n",
    "    # df = pd.read_csv(filename)\n",
    "\n",
    "    # Drop columns with more than a set threshold of non-null values\n",
    "    model_df = df.dropna(axis=1, thresh=threshold)\n",
    "\n",
    "    # Fill null values in import and export quantities to depict negation\n",
    "    float_columns = list(model_df.select_dtypes('float').columns)\n",
    "    model_df[float_columns] = model_df[float_columns].fillna(0)\n",
    "\n",
    "    # Convert the 'Year' column to a string\n",
    "    model_df[\"Year\"] = model_df[\"Year\"].astype(str)\n",
    "    \n",
    "    \n",
    "    # Filter rows where 'App' is not equal to 'N'\n",
    "    model_df = model_df[model_df['App.'] != 'N']\n",
    "\n",
    "    # Filter rows based on import and export quantity percentiles\n",
    "#     min_threshold_import, max_threshold_import = df['Importer reported quantity'].quantile([0.05, 0.99])\n",
    "#     min_threshold_export, max_threshold_export = df['Exporter reported quantity'].quantile([0.05, 0.99])\n",
    "\n",
    "#     model_df = df[\n",
    "#         (df['Importer reported quantity'] < max_threshold_import) &\n",
    "#         (df['Importer reported quantity'] > min_threshold_import) &\n",
    "#         (df['Exporter reported quantity'] < max_threshold_export) &\n",
    "#         (df['Exporter reported quantity'] > min_threshold_export)\n",
    "#     ]\n",
    "\n",
    "    # Drop specific columns ('Origin' and 'Unit')\n",
    "    # drop_cols = ['Origin', 'Unit']\n",
    "    # model_df.drop(drop_cols, axis=1, inplace=True)\n",
    "\n",
    "    # Drop any remaining rows with null values from `model_df`\n",
    "    model_df.dropna(inplace=True)\n",
    "\n",
    "    # Return the cleaned DataFrame\n",
    "    return model_df"
   ]
  },
  {
   "cell_type": "code",
   "execution_count": 8,
   "id": "1de8dccc-95de-49af-a01f-f6b69b3f2dc1",
   "metadata": {},
   "outputs": [],
   "source": [
    "model_df = data_wrangler(df)"
   ]
  },
  {
   "cell_type": "code",
   "execution_count": 9,
   "id": "face744a-db2a-4932-ba1e-f05ed46ac1dc",
   "metadata": {},
   "outputs": [
    {
     "data": {
      "text/html": [
       "<div>\n",
       "<style scoped>\n",
       "    .dataframe tbody tr th:only-of-type {\n",
       "        vertical-align: middle;\n",
       "    }\n",
       "\n",
       "    .dataframe tbody tr th {\n",
       "        vertical-align: top;\n",
       "    }\n",
       "\n",
       "    .dataframe thead th {\n",
       "        text-align: right;\n",
       "    }\n",
       "</style>\n",
       "<table border=\"1\" class=\"dataframe\">\n",
       "  <thead>\n",
       "    <tr style=\"text-align: right;\">\n",
       "      <th></th>\n",
       "      <th>Year</th>\n",
       "      <th>App.</th>\n",
       "      <th>Taxon</th>\n",
       "      <th>Class</th>\n",
       "      <th>Order</th>\n",
       "      <th>Family</th>\n",
       "      <th>Genus</th>\n",
       "      <th>Importer</th>\n",
       "      <th>Exporter</th>\n",
       "      <th>Importer reported quantity</th>\n",
       "      <th>Exporter reported quantity</th>\n",
       "      <th>Term</th>\n",
       "      <th>Purpose</th>\n",
       "      <th>Source</th>\n",
       "    </tr>\n",
       "  </thead>\n",
       "  <tbody>\n",
       "    <tr>\n",
       "      <th>0</th>\n",
       "      <td>2016</td>\n",
       "      <td>I</td>\n",
       "      <td>Aquila heliaca</td>\n",
       "      <td>Aves</td>\n",
       "      <td>Falconiformes</td>\n",
       "      <td>Accipitridae</td>\n",
       "      <td>Aquila</td>\n",
       "      <td>TR</td>\n",
       "      <td>NL</td>\n",
       "      <td>0.00</td>\n",
       "      <td>1.00</td>\n",
       "      <td>bodies</td>\n",
       "      <td>T</td>\n",
       "      <td>C</td>\n",
       "    </tr>\n",
       "    <tr>\n",
       "      <th>1</th>\n",
       "      <td>2016</td>\n",
       "      <td>I</td>\n",
       "      <td>Aquila heliaca</td>\n",
       "      <td>Aves</td>\n",
       "      <td>Falconiformes</td>\n",
       "      <td>Accipitridae</td>\n",
       "      <td>Aquila</td>\n",
       "      <td>XV</td>\n",
       "      <td>RS</td>\n",
       "      <td>0.00</td>\n",
       "      <td>1.00</td>\n",
       "      <td>bodies</td>\n",
       "      <td>Q</td>\n",
       "      <td>O</td>\n",
       "    </tr>\n",
       "    <tr>\n",
       "      <th>2</th>\n",
       "      <td>2016</td>\n",
       "      <td>I</td>\n",
       "      <td>Haliaeetus albicilla</td>\n",
       "      <td>Aves</td>\n",
       "      <td>Falconiformes</td>\n",
       "      <td>Accipitridae</td>\n",
       "      <td>Haliaeetus</td>\n",
       "      <td>BE</td>\n",
       "      <td>NO</td>\n",
       "      <td>0.00</td>\n",
       "      <td>43.00</td>\n",
       "      <td>feathers</td>\n",
       "      <td>S</td>\n",
       "      <td>W</td>\n",
       "    </tr>\n",
       "    <tr>\n",
       "      <th>3</th>\n",
       "      <td>2016</td>\n",
       "      <td>I</td>\n",
       "      <td>Haliaeetus albicilla</td>\n",
       "      <td>Aves</td>\n",
       "      <td>Falconiformes</td>\n",
       "      <td>Accipitridae</td>\n",
       "      <td>Haliaeetus</td>\n",
       "      <td>BE</td>\n",
       "      <td>NO</td>\n",
       "      <td>0.00</td>\n",
       "      <td>43.00</td>\n",
       "      <td>specimens</td>\n",
       "      <td>S</td>\n",
       "      <td>W</td>\n",
       "    </tr>\n",
       "    <tr>\n",
       "      <th>4</th>\n",
       "      <td>2016</td>\n",
       "      <td>I</td>\n",
       "      <td>Haliaeetus albicilla</td>\n",
       "      <td>Aves</td>\n",
       "      <td>Falconiformes</td>\n",
       "      <td>Accipitridae</td>\n",
       "      <td>Haliaeetus</td>\n",
       "      <td>DK</td>\n",
       "      <td>IS</td>\n",
       "      <td>700.00</td>\n",
       "      <td>0.00</td>\n",
       "      <td>specimens</td>\n",
       "      <td>S</td>\n",
       "      <td>W</td>\n",
       "    </tr>\n",
       "  </tbody>\n",
       "</table>\n",
       "</div>"
      ],
      "text/plain": [
       "   Year App.                 Taxon Class          Order        Family  \\\n",
       "0  2016    I        Aquila heliaca  Aves  Falconiformes  Accipitridae   \n",
       "1  2016    I        Aquila heliaca  Aves  Falconiformes  Accipitridae   \n",
       "2  2016    I  Haliaeetus albicilla  Aves  Falconiformes  Accipitridae   \n",
       "3  2016    I  Haliaeetus albicilla  Aves  Falconiformes  Accipitridae   \n",
       "4  2016    I  Haliaeetus albicilla  Aves  Falconiformes  Accipitridae   \n",
       "\n",
       "        Genus Importer Exporter  Importer reported quantity  \\\n",
       "0      Aquila       TR       NL                        0.00   \n",
       "1      Aquila       XV       RS                        0.00   \n",
       "2  Haliaeetus       BE       NO                        0.00   \n",
       "3  Haliaeetus       BE       NO                        0.00   \n",
       "4  Haliaeetus       DK       IS                      700.00   \n",
       "\n",
       "   Exporter reported quantity       Term Purpose Source  \n",
       "0                        1.00     bodies       T      C  \n",
       "1                        1.00     bodies       Q      O  \n",
       "2                       43.00   feathers       S      W  \n",
       "3                       43.00  specimens       S      W  \n",
       "4                        0.00  specimens       S      W  "
      ]
     },
     "execution_count": 9,
     "metadata": {},
     "output_type": "execute_result"
    }
   ],
   "source": [
    "model_df.head()"
   ]
  },
  {
   "cell_type": "code",
   "execution_count": 10,
   "id": "6a1112dc-bb27-469e-b283-e919dc8a0a71",
   "metadata": {},
   "outputs": [
    {
     "data": {
      "text/plain": [
       "array(['I', 'II', 'III'], dtype=object)"
      ]
     },
     "execution_count": 10,
     "metadata": {},
     "output_type": "execute_result"
    }
   ],
   "source": [
    "model_df[\"App.\"].unique()"
   ]
  },
  {
   "cell_type": "code",
   "execution_count": 11,
   "id": "c9085168-397e-45dd-bf8d-54496436777a",
   "metadata": {},
   "outputs": [
    {
     "name": "stdout",
     "output_type": "stream",
     "text": [
      "<class 'pandas.core.frame.DataFrame'>\n",
      "Index: 44831 entries, 0 to 67160\n",
      "Data columns (total 14 columns):\n",
      " #   Column                      Non-Null Count  Dtype  \n",
      "---  ------                      --------------  -----  \n",
      " 0   Year                        44831 non-null  object \n",
      " 1   App.                        44831 non-null  object \n",
      " 2   Taxon                       44831 non-null  object \n",
      " 3   Class                       44831 non-null  object \n",
      " 4   Order                       44831 non-null  object \n",
      " 5   Family                      44831 non-null  object \n",
      " 6   Genus                       44831 non-null  object \n",
      " 7   Importer                    44831 non-null  object \n",
      " 8   Exporter                    44831 non-null  object \n",
      " 9   Importer reported quantity  44831 non-null  float64\n",
      " 10  Exporter reported quantity  44831 non-null  float64\n",
      " 11  Term                        44831 non-null  object \n",
      " 12  Purpose                     44831 non-null  object \n",
      " 13  Source                      44831 non-null  object \n",
      "dtypes: float64(2), object(12)\n",
      "memory usage: 5.1+ MB\n"
     ]
    }
   ],
   "source": [
    "model_df.info()"
   ]
  },
  {
   "cell_type": "code",
   "execution_count": 12,
   "id": "5f52b3ca-5693-4e35-b517-bf00d2ce73ce",
   "metadata": {},
   "outputs": [
    {
     "data": {
      "text/html": [
       "<div>\n",
       "<style scoped>\n",
       "    .dataframe tbody tr th:only-of-type {\n",
       "        vertical-align: middle;\n",
       "    }\n",
       "\n",
       "    .dataframe tbody tr th {\n",
       "        vertical-align: top;\n",
       "    }\n",
       "\n",
       "    .dataframe thead th {\n",
       "        text-align: right;\n",
       "    }\n",
       "</style>\n",
       "<table border=\"1\" class=\"dataframe\">\n",
       "  <thead>\n",
       "    <tr style=\"text-align: right;\">\n",
       "      <th></th>\n",
       "      <th>Importer reported quantity</th>\n",
       "      <th>Exporter reported quantity</th>\n",
       "    </tr>\n",
       "  </thead>\n",
       "  <tbody>\n",
       "    <tr>\n",
       "      <th>count</th>\n",
       "      <td>44831.00</td>\n",
       "      <td>44831.00</td>\n",
       "    </tr>\n",
       "    <tr>\n",
       "      <th>mean</th>\n",
       "      <td>838.00</td>\n",
       "      <td>815.33</td>\n",
       "    </tr>\n",
       "    <tr>\n",
       "      <th>std</th>\n",
       "      <td>36136.60</td>\n",
       "      <td>21926.11</td>\n",
       "    </tr>\n",
       "    <tr>\n",
       "      <th>min</th>\n",
       "      <td>0.00</td>\n",
       "      <td>0.00</td>\n",
       "    </tr>\n",
       "    <tr>\n",
       "      <th>25%</th>\n",
       "      <td>0.00</td>\n",
       "      <td>0.00</td>\n",
       "    </tr>\n",
       "    <tr>\n",
       "      <th>50%</th>\n",
       "      <td>0.00</td>\n",
       "      <td>2.00</td>\n",
       "    </tr>\n",
       "    <tr>\n",
       "      <th>75%</th>\n",
       "      <td>11.37</td>\n",
       "      <td>20.00</td>\n",
       "    </tr>\n",
       "    <tr>\n",
       "      <th>max</th>\n",
       "      <td>6366595.29</td>\n",
       "      <td>2625779.00</td>\n",
       "    </tr>\n",
       "  </tbody>\n",
       "</table>\n",
       "</div>"
      ],
      "text/plain": [
       "       Importer reported quantity  Exporter reported quantity\n",
       "count                    44831.00                    44831.00\n",
       "mean                       838.00                      815.33\n",
       "std                      36136.60                    21926.11\n",
       "min                          0.00                        0.00\n",
       "25%                          0.00                        0.00\n",
       "50%                          0.00                        2.00\n",
       "75%                         11.37                       20.00\n",
       "max                    6366595.29                  2625779.00"
      ]
     },
     "execution_count": 12,
     "metadata": {},
     "output_type": "execute_result"
    }
   ],
   "source": [
    "model_df.describe()"
   ]
  },
  {
   "cell_type": "code",
   "execution_count": 13,
   "id": "21c7f1c4-3ac7-4efd-abf5-5e54eeab23c0",
   "metadata": {},
   "outputs": [],
   "source": [
    "def split_data():\n",
    "    X = model_df.drop(\"App.\",axis=1)\n",
    "    y = model_df[\"App.\"] \n",
    "    return train_test_split(X, y,test_size=0.3,random_state =42) "
   ]
  },
  {
   "cell_type": "code",
   "execution_count": 14,
   "id": "14970df1-a866-4531-a53d-3797771d1b72",
   "metadata": {},
   "outputs": [],
   "source": [
    "def resample():\n",
    "    X_train = split_data()[0]\n",
    "    y_train = split_data()[2]\n",
    "    X_train_over, y_train_over = RandomOverSampler(random_state=42).fit_resample(X_train,y_train)\n",
    "    return X_train_over, y_train_over"
   ]
  },
  {
   "cell_type": "code",
   "execution_count": 15,
   "id": "79fd84ea-9c6c-4da8-bf5d-25a75b66a492",
   "metadata": {},
   "outputs": [],
   "source": [
    "def build_model(voting=\"hard\"):\n",
    "    estimator = [] \n",
    "    estimator.append(('LR',  \n",
    "                      LogisticRegression(solver ='lbfgs',  \n",
    "                                         multi_class ='multinomial',  \n",
    "                                         max_iter = 200))) \n",
    "    estimator.append(('SVC', SVC(gamma ='auto', probability = True))) \n",
    "    estimator.append(('DTC', DecisionTreeClassifier(max_depth=10))) \n",
    "    estimator.append(('RFC', RandomForestClassifier(random_state=42))) \n",
    "    estimator.append(('GBC', GradientBoostingClassifier()))\n",
    "\n",
    "    # Voting Classifier with hard voting \n",
    "    # Build Model\n",
    "    model = make_pipeline(\n",
    "        OrdinalEncoder(), \n",
    "        RobustScaler(),\n",
    "        VotingClassifier(estimators=estimator, voting=voting) \n",
    "    )\n",
    "    return model"
   ]
  },
  {
   "cell_type": "code",
   "execution_count": 15,
   "id": "363c7ca3-d5a5-4a5c-b75a-01c312e7b002",
   "metadata": {},
   "outputs": [
    {
     "data": {
      "text/html": [
       "<style>#sk-container-id-1 {color: black;}#sk-container-id-1 pre{padding: 0;}#sk-container-id-1 div.sk-toggleable {background-color: white;}#sk-container-id-1 label.sk-toggleable__label {cursor: pointer;display: block;width: 100%;margin-bottom: 0;padding: 0.3em;box-sizing: border-box;text-align: center;}#sk-container-id-1 label.sk-toggleable__label-arrow:before {content: \"▸\";float: left;margin-right: 0.25em;color: #696969;}#sk-container-id-1 label.sk-toggleable__label-arrow:hover:before {color: black;}#sk-container-id-1 div.sk-estimator:hover label.sk-toggleable__label-arrow:before {color: black;}#sk-container-id-1 div.sk-toggleable__content {max-height: 0;max-width: 0;overflow: hidden;text-align: left;background-color: #f0f8ff;}#sk-container-id-1 div.sk-toggleable__content pre {margin: 0.2em;color: black;border-radius: 0.25em;background-color: #f0f8ff;}#sk-container-id-1 input.sk-toggleable__control:checked~div.sk-toggleable__content {max-height: 200px;max-width: 100%;overflow: auto;}#sk-container-id-1 input.sk-toggleable__control:checked~label.sk-toggleable__label-arrow:before {content: \"▾\";}#sk-container-id-1 div.sk-estimator input.sk-toggleable__control:checked~label.sk-toggleable__label {background-color: #d4ebff;}#sk-container-id-1 div.sk-label input.sk-toggleable__control:checked~label.sk-toggleable__label {background-color: #d4ebff;}#sk-container-id-1 input.sk-hidden--visually {border: 0;clip: rect(1px 1px 1px 1px);clip: rect(1px, 1px, 1px, 1px);height: 1px;margin: -1px;overflow: hidden;padding: 0;position: absolute;width: 1px;}#sk-container-id-1 div.sk-estimator {font-family: monospace;background-color: #f0f8ff;border: 1px dotted black;border-radius: 0.25em;box-sizing: border-box;margin-bottom: 0.5em;}#sk-container-id-1 div.sk-estimator:hover {background-color: #d4ebff;}#sk-container-id-1 div.sk-parallel-item::after {content: \"\";width: 100%;border-bottom: 1px solid gray;flex-grow: 1;}#sk-container-id-1 div.sk-label:hover label.sk-toggleable__label {background-color: #d4ebff;}#sk-container-id-1 div.sk-serial::before {content: \"\";position: absolute;border-left: 1px solid gray;box-sizing: border-box;top: 0;bottom: 0;left: 50%;z-index: 0;}#sk-container-id-1 div.sk-serial {display: flex;flex-direction: column;align-items: center;background-color: white;padding-right: 0.2em;padding-left: 0.2em;position: relative;}#sk-container-id-1 div.sk-item {position: relative;z-index: 1;}#sk-container-id-1 div.sk-parallel {display: flex;align-items: stretch;justify-content: center;background-color: white;position: relative;}#sk-container-id-1 div.sk-item::before, #sk-container-id-1 div.sk-parallel-item::before {content: \"\";position: absolute;border-left: 1px solid gray;box-sizing: border-box;top: 0;bottom: 0;left: 50%;z-index: -1;}#sk-container-id-1 div.sk-parallel-item {display: flex;flex-direction: column;z-index: 1;position: relative;background-color: white;}#sk-container-id-1 div.sk-parallel-item:first-child::after {align-self: flex-end;width: 50%;}#sk-container-id-1 div.sk-parallel-item:last-child::after {align-self: flex-start;width: 50%;}#sk-container-id-1 div.sk-parallel-item:only-child::after {width: 0;}#sk-container-id-1 div.sk-dashed-wrapped {border: 1px dashed gray;margin: 0 0.4em 0.5em 0.4em;box-sizing: border-box;padding-bottom: 0.4em;background-color: white;}#sk-container-id-1 div.sk-label label {font-family: monospace;font-weight: bold;display: inline-block;line-height: 1.2em;}#sk-container-id-1 div.sk-label-container {text-align: center;}#sk-container-id-1 div.sk-container {/* jupyter's `normalize.less` sets `[hidden] { display: none; }` but bootstrap.min.css set `[hidden] { display: none !important; }` so we also need the `!important` here to be able to override the default hidden behavior on the sphinx rendered scikit-learn.org. See: https://github.com/scikit-learn/scikit-learn/issues/21755 */display: inline-block !important;position: relative;}#sk-container-id-1 div.sk-text-repr-fallback {display: none;}</style><div id=\"sk-container-id-1\" class=\"sk-top-container\"><div class=\"sk-text-repr-fallback\"><pre>Pipeline(steps=[(&#x27;ordinalencoder&#x27;, OrdinalEncoder()),\n",
       "                (&#x27;robustscaler&#x27;, RobustScaler()),\n",
       "                (&#x27;votingclassifier&#x27;,\n",
       "                 VotingClassifier(estimators=[(&#x27;LR&#x27;,\n",
       "                                               LogisticRegression(max_iter=200,\n",
       "                                                                  multi_class=&#x27;multinomial&#x27;)),\n",
       "                                              (&#x27;SVC&#x27;,\n",
       "                                               SVC(gamma=&#x27;auto&#x27;,\n",
       "                                                   probability=True)),\n",
       "                                              (&#x27;DTC&#x27;,\n",
       "                                               DecisionTreeClassifier(max_depth=10)),\n",
       "                                              (&#x27;RFC&#x27;,\n",
       "                                               RandomForestClassifier(random_state=42)),\n",
       "                                              (&#x27;GBC&#x27;,\n",
       "                                               GradientBoostingClassifier())]))])</pre><b>In a Jupyter environment, please rerun this cell to show the HTML representation or trust the notebook. <br />On GitHub, the HTML representation is unable to render, please try loading this page with nbviewer.org.</b></div><div class=\"sk-container\" hidden><div class=\"sk-item sk-dashed-wrapped\"><div class=\"sk-label-container\"><div class=\"sk-label sk-toggleable\"><input class=\"sk-toggleable__control sk-hidden--visually\" id=\"sk-estimator-id-1\" type=\"checkbox\" ><label for=\"sk-estimator-id-1\" class=\"sk-toggleable__label sk-toggleable__label-arrow\">Pipeline</label><div class=\"sk-toggleable__content\"><pre>Pipeline(steps=[(&#x27;ordinalencoder&#x27;, OrdinalEncoder()),\n",
       "                (&#x27;robustscaler&#x27;, RobustScaler()),\n",
       "                (&#x27;votingclassifier&#x27;,\n",
       "                 VotingClassifier(estimators=[(&#x27;LR&#x27;,\n",
       "                                               LogisticRegression(max_iter=200,\n",
       "                                                                  multi_class=&#x27;multinomial&#x27;)),\n",
       "                                              (&#x27;SVC&#x27;,\n",
       "                                               SVC(gamma=&#x27;auto&#x27;,\n",
       "                                                   probability=True)),\n",
       "                                              (&#x27;DTC&#x27;,\n",
       "                                               DecisionTreeClassifier(max_depth=10)),\n",
       "                                              (&#x27;RFC&#x27;,\n",
       "                                               RandomForestClassifier(random_state=42)),\n",
       "                                              (&#x27;GBC&#x27;,\n",
       "                                               GradientBoostingClassifier())]))])</pre></div></div></div><div class=\"sk-serial\"><div class=\"sk-item\"><div class=\"sk-estimator sk-toggleable\"><input class=\"sk-toggleable__control sk-hidden--visually\" id=\"sk-estimator-id-2\" type=\"checkbox\" ><label for=\"sk-estimator-id-2\" class=\"sk-toggleable__label sk-toggleable__label-arrow\">OrdinalEncoder</label><div class=\"sk-toggleable__content\"><pre>OrdinalEncoder()</pre></div></div></div><div class=\"sk-item\"><div class=\"sk-estimator sk-toggleable\"><input class=\"sk-toggleable__control sk-hidden--visually\" id=\"sk-estimator-id-3\" type=\"checkbox\" ><label for=\"sk-estimator-id-3\" class=\"sk-toggleable__label sk-toggleable__label-arrow\">RobustScaler</label><div class=\"sk-toggleable__content\"><pre>RobustScaler()</pre></div></div></div><div class=\"sk-item sk-dashed-wrapped\"><div class=\"sk-label-container\"><div class=\"sk-label sk-toggleable\"><input class=\"sk-toggleable__control sk-hidden--visually\" id=\"sk-estimator-id-4\" type=\"checkbox\" ><label for=\"sk-estimator-id-4\" class=\"sk-toggleable__label sk-toggleable__label-arrow\">votingclassifier: VotingClassifier</label><div class=\"sk-toggleable__content\"><pre>VotingClassifier(estimators=[(&#x27;LR&#x27;,\n",
       "                              LogisticRegression(max_iter=200,\n",
       "                                                 multi_class=&#x27;multinomial&#x27;)),\n",
       "                             (&#x27;SVC&#x27;, SVC(gamma=&#x27;auto&#x27;, probability=True)),\n",
       "                             (&#x27;DTC&#x27;, DecisionTreeClassifier(max_depth=10)),\n",
       "                             (&#x27;RFC&#x27;, RandomForestClassifier(random_state=42)),\n",
       "                             (&#x27;GBC&#x27;, GradientBoostingClassifier())])</pre></div></div></div><div class=\"sk-parallel\"><div class=\"sk-parallel-item\"><div class=\"sk-item\"><div class=\"sk-label-container\"><div class=\"sk-label sk-toggleable\"><label>LR</label></div></div><div class=\"sk-serial\"><div class=\"sk-item\"><div class=\"sk-estimator sk-toggleable\"><input class=\"sk-toggleable__control sk-hidden--visually\" id=\"sk-estimator-id-5\" type=\"checkbox\" ><label for=\"sk-estimator-id-5\" class=\"sk-toggleable__label sk-toggleable__label-arrow\">LogisticRegression</label><div class=\"sk-toggleable__content\"><pre>LogisticRegression(max_iter=200, multi_class=&#x27;multinomial&#x27;)</pre></div></div></div></div></div></div><div class=\"sk-parallel-item\"><div class=\"sk-item\"><div class=\"sk-label-container\"><div class=\"sk-label sk-toggleable\"><label>SVC</label></div></div><div class=\"sk-serial\"><div class=\"sk-item\"><div class=\"sk-estimator sk-toggleable\"><input class=\"sk-toggleable__control sk-hidden--visually\" id=\"sk-estimator-id-6\" type=\"checkbox\" ><label for=\"sk-estimator-id-6\" class=\"sk-toggleable__label sk-toggleable__label-arrow\">SVC</label><div class=\"sk-toggleable__content\"><pre>SVC(gamma=&#x27;auto&#x27;, probability=True)</pre></div></div></div></div></div></div><div class=\"sk-parallel-item\"><div class=\"sk-item\"><div class=\"sk-label-container\"><div class=\"sk-label sk-toggleable\"><label>DTC</label></div></div><div class=\"sk-serial\"><div class=\"sk-item\"><div class=\"sk-estimator sk-toggleable\"><input class=\"sk-toggleable__control sk-hidden--visually\" id=\"sk-estimator-id-7\" type=\"checkbox\" ><label for=\"sk-estimator-id-7\" class=\"sk-toggleable__label sk-toggleable__label-arrow\">DecisionTreeClassifier</label><div class=\"sk-toggleable__content\"><pre>DecisionTreeClassifier(max_depth=10)</pre></div></div></div></div></div></div><div class=\"sk-parallel-item\"><div class=\"sk-item\"><div class=\"sk-label-container\"><div class=\"sk-label sk-toggleable\"><label>RFC</label></div></div><div class=\"sk-serial\"><div class=\"sk-item\"><div class=\"sk-estimator sk-toggleable\"><input class=\"sk-toggleable__control sk-hidden--visually\" id=\"sk-estimator-id-8\" type=\"checkbox\" ><label for=\"sk-estimator-id-8\" class=\"sk-toggleable__label sk-toggleable__label-arrow\">RandomForestClassifier</label><div class=\"sk-toggleable__content\"><pre>RandomForestClassifier(random_state=42)</pre></div></div></div></div></div></div><div class=\"sk-parallel-item\"><div class=\"sk-item\"><div class=\"sk-label-container\"><div class=\"sk-label sk-toggleable\"><label>GBC</label></div></div><div class=\"sk-serial\"><div class=\"sk-item\"><div class=\"sk-estimator sk-toggleable\"><input class=\"sk-toggleable__control sk-hidden--visually\" id=\"sk-estimator-id-9\" type=\"checkbox\" ><label for=\"sk-estimator-id-9\" class=\"sk-toggleable__label sk-toggleable__label-arrow\">GradientBoostingClassifier</label><div class=\"sk-toggleable__content\"><pre>GradientBoostingClassifier()</pre></div></div></div></div></div></div></div></div></div></div></div></div>"
      ],
      "text/plain": [
       "Pipeline(steps=[('ordinalencoder', OrdinalEncoder()),\n",
       "                ('robustscaler', RobustScaler()),\n",
       "                ('votingclassifier',\n",
       "                 VotingClassifier(estimators=[('LR',\n",
       "                                               LogisticRegression(max_iter=200,\n",
       "                                                                  multi_class='multinomial')),\n",
       "                                              ('SVC',\n",
       "                                               SVC(gamma='auto',\n",
       "                                                   probability=True)),\n",
       "                                              ('DTC',\n",
       "                                               DecisionTreeClassifier(max_depth=10)),\n",
       "                                              ('RFC',\n",
       "                                               RandomForestClassifier(random_state=42)),\n",
       "                                              ('GBC',\n",
       "                                               GradientBoostingClassifier())]))])"
      ]
     },
     "execution_count": 15,
     "metadata": {},
     "output_type": "execute_result"
    }
   ],
   "source": [
    "model = build_model()\n",
    "model"
   ]
  },
  {
   "cell_type": "code",
   "execution_count": null,
   "id": "8bf69dd6-7d47-4fdd-8396-a1e86c0dedf1",
   "metadata": {},
   "outputs": [],
   "source": [
    "model = build_model()\n",
    "X_train_over, y_train_over = resample()\n",
    "model.fit(X_train_over, y_train_over)"
   ]
  },
  {
   "cell_type": "code",
   "execution_count": 16,
   "id": "a9ff2ba6-7597-4198-bb98-83a6d84dac94",
   "metadata": {},
   "outputs": [],
   "source": [
    " X_train, X_test, y_train, y_test = split_data()"
   ]
  },
  {
   "cell_type": "code",
   "execution_count": null,
   "id": "4dca395a-d1ce-4a58-9b29-fb5c5f81398c",
   "metadata": {},
   "outputs": [],
   "source": [
    "y_pred = model.predict(X_test)\n",
    "print(\"Test Accuracy:\", round(accuracy_score(y_test, y_pred), 2))"
   ]
  },
  {
   "cell_type": "code",
   "execution_count": 31,
   "id": "a8bcf803-37f1-47e1-9ce2-2849b3e983c5",
   "metadata": {},
   "outputs": [
    {
     "name": "stdout",
     "output_type": "stream",
     "text": [
      "Train Accuracy: 0.99\n"
     ]
    }
   ],
   "source": [
    "print(\"Train Accuracy:\", round(model.score(X_train, y_train), 2))"
   ]
  },
  {
   "cell_type": "code",
   "execution_count": 32,
   "id": "681f16c5-71f1-44b5-83c8-ebfec918073f",
   "metadata": {},
   "outputs": [
    {
     "name": "stdout",
     "output_type": "stream",
     "text": [
      "              precision    recall  f1-score   support\n",
      "\n",
      "           I       0.90      0.89      0.90       130\n",
      "          II       0.99      0.98      0.99      1663\n",
      "         III       0.54      0.62      0.58        24\n",
      "\n",
      "    accuracy                           0.97      1817\n",
      "   macro avg       0.81      0.83      0.82      1817\n",
      "weighted avg       0.97      0.97      0.97      1817\n",
      "\n"
     ]
    }
   ],
   "source": [
    "print(classification_report(y_test,model.predict(X_test)))"
   ]
  },
  {
   "cell_type": "code",
   "execution_count": 33,
   "id": "f354535f-5402-4fd7-aa95-041f5f226cd0",
   "metadata": {},
   "outputs": [
    {
     "data": {
      "text/plain": [
       "['Year',\n",
       " 'Taxon',\n",
       " 'Class',\n",
       " 'Order',\n",
       " 'Family',\n",
       " 'Genus',\n",
       " 'Importer',\n",
       " 'Exporter',\n",
       " 'Importer reported quantity',\n",
       " 'Exporter reported quantity',\n",
       " 'Term',\n",
       " 'Purpose',\n",
       " 'Source']"
      ]
     },
     "execution_count": 33,
     "metadata": {},
     "output_type": "execute_result"
    }
   ],
   "source": [
    "model.feature_names_in_"
   ]
  },
  {
   "cell_type": "code",
   "execution_count": 34,
   "id": "d07c5db0-ffb0-428c-b79a-c5f04bce73c5",
   "metadata": {},
   "outputs": [
    {
     "data": {
      "text/plain": [
       "Index(['Year', 'Taxon', 'Class', 'Order', 'Family', 'Genus', 'Importer',\n",
       "       'Exporter', 'Importer reported quantity', 'Exporter reported quantity',\n",
       "       'Term', 'Purpose', 'Source'],\n",
       "      dtype='object')"
      ]
     },
     "execution_count": 34,
     "metadata": {},
     "output_type": "execute_result"
    }
   ],
   "source": [
    "X_train_over.columns"
   ]
  },
  {
   "cell_type": "code",
   "execution_count": 35,
   "id": "beaa6236-156d-4fa5-8749-b9a8443b2d7b",
   "metadata": {},
   "outputs": [
    {
     "data": {
      "text/plain": [
       "True"
      ]
     },
     "execution_count": 35,
     "metadata": {},
     "output_type": "execute_result"
    }
   ],
   "source": [
    "# Checking to see if the features are same as the training data columns\n",
    "all(model.feature_names_in_) == all(X_train_over.columns)"
   ]
  },
  {
   "cell_type": "code",
   "execution_count": 36,
   "id": "6eb90c8f-1795-4241-8f68-ed808a3458e7",
   "metadata": {
    "tags": []
   },
   "outputs": [
    {
     "data": {
      "text/plain": [
       "[LogisticRegression(max_iter=200, multi_class='multinomial'),\n",
       " SVC(gamma='auto', probability=True),\n",
       " DecisionTreeClassifier(max_depth=10),\n",
       " RandomForestClassifier(random_state=42),\n",
       " GradientBoostingClassifier()]"
      ]
     },
     "execution_count": 36,
     "metadata": {},
     "output_type": "execute_result"
    }
   ],
   "source": [
    "model.named_steps[\"votingclassifier\"].estimators_"
   ]
  },
  {
   "cell_type": "code",
   "execution_count": 37,
   "id": "a5939a3e-1799-4334-b861-2ff1b1f2db9b",
   "metadata": {},
   "outputs": [],
   "source": [
    "for model in model.named_steps[\"votingclassifier\"].estimators_:\n",
    "    if hasattr(model, 'feature_importances_'):\n",
    "        feature_importances_model = model.feature_importances_"
   ]
  },
  {
   "cell_type": "code",
   "execution_count": 38,
   "id": "c3ab01bc-aa59-4e13-b0d8-e649edf864e6",
   "metadata": {},
   "outputs": [],
   "source": [
    "# Get feature names from training data\n",
    "features = model.feature_names_in_\n",
    "\n",
    "# Create a series with feature names and importances\n",
    "feat_imp = pd.Series(feature_importances_model,index=features).sort_values(ascending=False)"
   ]
  },
  {
   "cell_type": "code",
   "execution_count": 39,
   "id": "ee9c895b-7771-4a9c-b935-5a404b6fcd7a",
   "metadata": {},
   "outputs": [
    {
     "data": {
      "text/plain": [
       "Family                       0.34\n",
       "Source                       0.18\n",
       "Purpose                      0.14\n",
       "Term                         0.11\n",
       "Order                        0.07\n",
       "Exporter                     0.04\n",
       "Class                        0.03\n",
       "Genus                        0.03\n",
       "Taxon                        0.03\n",
       "Exporter reported quantity   0.02\n",
       "Importer                     0.01\n",
       "Importer reported quantity   0.00\n",
       "Year                         0.00\n",
       "dtype: float64"
      ]
     },
     "execution_count": 39,
     "metadata": {},
     "output_type": "execute_result"
    }
   ],
   "source": [
    "feat_imp"
   ]
  },
  {
   "cell_type": "code",
   "execution_count": 40,
   "id": "c484983c-0a07-475c-903b-b7c214ac2891",
   "metadata": {},
   "outputs": [
    {
     "data": {
      "image/png": "[encoded data removed]",
      "text/plain": [
       "<Figure size 720x576 with 1 Axes>"
      ]
     },
     "metadata": {
      "needs_background": "light"
     },
     "output_type": "display_data"
    }
   ],
   "source": [
    "import seaborn as sns\n",
    "# Create a horizontal bar plot\n",
    "plt.figure(figsize=(10,8))\n",
    "sns.barplot(x=feat_imp.values, y=feat_imp.index, orient='h',color=sns.color_palette()[0])\n",
    "plt.xlabel(\"Gini Importance\")\n",
    "plt.ylabel(\"Features\")\n",
    "plt.title(\"Feature Importance\");"
   ]
  },
  {
   "cell_type": "code",
   "execution_count": 41,
   "id": "9fc70b38-9c0d-4e99-8f15-983226c6c476",
   "metadata": {},
   "outputs": [
    {
     "data": {
      "text/html": [
       "<svg  width=\"550\" height=\"55\"><rect x=\"0\" y=\"0\" width=\"55\" height=\"55\" style=\"fill:#1f77b4;stroke-width:2;stroke:rgb(255,255,255)\"/><rect x=\"55\" y=\"0\" width=\"55\" height=\"55\" style=\"fill:#ff7f0e;stroke-width:2;stroke:rgb(255,255,255)\"/><rect x=\"110\" y=\"0\" width=\"55\" height=\"55\" style=\"fill:#2ca02c;stroke-width:2;stroke:rgb(255,255,255)\"/><rect x=\"165\" y=\"0\" width=\"55\" height=\"55\" style=\"fill:#d62728;stroke-width:2;stroke:rgb(255,255,255)\"/><rect x=\"220\" y=\"0\" width=\"55\" height=\"55\" style=\"fill:#9467bd;stroke-width:2;stroke:rgb(255,255,255)\"/><rect x=\"275\" y=\"0\" width=\"55\" height=\"55\" style=\"fill:#8c564b;stroke-width:2;stroke:rgb(255,255,255)\"/><rect x=\"330\" y=\"0\" width=\"55\" height=\"55\" style=\"fill:#e377c2;stroke-width:2;stroke:rgb(255,255,255)\"/><rect x=\"385\" y=\"0\" width=\"55\" height=\"55\" style=\"fill:#7f7f7f;stroke-width:2;stroke:rgb(255,255,255)\"/><rect x=\"440\" y=\"0\" width=\"55\" height=\"55\" style=\"fill:#bcbd22;stroke-width:2;stroke:rgb(255,255,255)\"/><rect x=\"495\" y=\"0\" width=\"55\" height=\"55\" style=\"fill:#17becf;stroke-width:2;stroke:rgb(255,255,255)\"/></svg>"
      ],
      "text/plain": [
       "[(0.12156862745098039, 0.4666666666666667, 0.7058823529411765),\n",
       " (1.0, 0.4980392156862745, 0.054901960784313725),\n",
       " (0.17254901960784313, 0.6274509803921569, 0.17254901960784313),\n",
       " (0.8392156862745098, 0.15294117647058825, 0.1568627450980392),\n",
       " (0.5803921568627451, 0.403921568627451, 0.7411764705882353),\n",
       " (0.5490196078431373, 0.33725490196078434, 0.29411764705882354),\n",
       " (0.8901960784313725, 0.4666666666666667, 0.7607843137254902),\n",
       " (0.4980392156862745, 0.4980392156862745, 0.4980392156862745),\n",
       " (0.7372549019607844, 0.7411764705882353, 0.13333333333333333),\n",
       " (0.09019607843137255, 0.7450980392156863, 0.8117647058823529)]"
      ]
     },
     "execution_count": 41,
     "metadata": {},
     "output_type": "execute_result"
    }
   ],
   "source": [
    "sns.color_palette()"
   ]
  },
  {
   "cell_type": "markdown",
   "id": "1cc44e9e-6717-4ca0-816b-6bde1a2cd46d",
   "metadata": {},
   "source": [
    "### Checking model deserialization"
   ]
  },
  {
   "cell_type": "code",
   "execution_count": 17,
   "id": "1400b4fb-c912-4322-a190-1dba42b075ca",
   "metadata": {},
   "outputs": [],
   "source": [
    "model_path = 'serve/model_2023-10-29T23:32:02.765585.pkl'\n",
    "\n",
    "# Load the model from the file\n",
    "with open(model_path, 'rb') as file:\n",
    "    loaded_model = pickle.load(file)"
   ]
  },
  {
   "cell_type": "code",
   "execution_count": 18,
   "id": "f7f5b553-ba00-4926-a99b-09ea1abad383",
   "metadata": {},
   "outputs": [
    {
     "data": {
      "text/html": [
       "<style>#sk-container-id-1 {color: black;}#sk-container-id-1 pre{padding: 0;}#sk-container-id-1 div.sk-toggleable {background-color: white;}#sk-container-id-1 label.sk-toggleable__label {cursor: pointer;display: block;width: 100%;margin-bottom: 0;padding: 0.3em;box-sizing: border-box;text-align: center;}#sk-container-id-1 label.sk-toggleable__label-arrow:before {content: \"▸\";float: left;margin-right: 0.25em;color: #696969;}#sk-container-id-1 label.sk-toggleable__label-arrow:hover:before {color: black;}#sk-container-id-1 div.sk-estimator:hover label.sk-toggleable__label-arrow:before {color: black;}#sk-container-id-1 div.sk-toggleable__content {max-height: 0;max-width: 0;overflow: hidden;text-align: left;background-color: #f0f8ff;}#sk-container-id-1 div.sk-toggleable__content pre {margin: 0.2em;color: black;border-radius: 0.25em;background-color: #f0f8ff;}#sk-container-id-1 input.sk-toggleable__control:checked~div.sk-toggleable__content {max-height: 200px;max-width: 100%;overflow: auto;}#sk-container-id-1 input.sk-toggleable__control:checked~label.sk-toggleable__label-arrow:before {content: \"▾\";}#sk-container-id-1 div.sk-estimator input.sk-toggleable__control:checked~label.sk-toggleable__label {background-color: #d4ebff;}#sk-container-id-1 div.sk-label input.sk-toggleable__control:checked~label.sk-toggleable__label {background-color: #d4ebff;}#sk-container-id-1 input.sk-hidden--visually {border: 0;clip: rect(1px 1px 1px 1px);clip: rect(1px, 1px, 1px, 1px);height: 1px;margin: -1px;overflow: hidden;padding: 0;position: absolute;width: 1px;}#sk-container-id-1 div.sk-estimator {font-family: monospace;background-color: #f0f8ff;border: 1px dotted black;border-radius: 0.25em;box-sizing: border-box;margin-bottom: 0.5em;}#sk-container-id-1 div.sk-estimator:hover {background-color: #d4ebff;}#sk-container-id-1 div.sk-parallel-item::after {content: \"\";width: 100%;border-bottom: 1px solid gray;flex-grow: 1;}#sk-container-id-1 div.sk-label:hover label.sk-toggleable__label {background-color: #d4ebff;}#sk-container-id-1 div.sk-serial::before {content: \"\";position: absolute;border-left: 1px solid gray;box-sizing: border-box;top: 0;bottom: 0;left: 50%;z-index: 0;}#sk-container-id-1 div.sk-serial {display: flex;flex-direction: column;align-items: center;background-color: white;padding-right: 0.2em;padding-left: 0.2em;position: relative;}#sk-container-id-1 div.sk-item {position: relative;z-index: 1;}#sk-container-id-1 div.sk-parallel {display: flex;align-items: stretch;justify-content: center;background-color: white;position: relative;}#sk-container-id-1 div.sk-item::before, #sk-container-id-1 div.sk-parallel-item::before {content: \"\";position: absolute;border-left: 1px solid gray;box-sizing: border-box;top: 0;bottom: 0;left: 50%;z-index: -1;}#sk-container-id-1 div.sk-parallel-item {display: flex;flex-direction: column;z-index: 1;position: relative;background-color: white;}#sk-container-id-1 div.sk-parallel-item:first-child::after {align-self: flex-end;width: 50%;}#sk-container-id-1 div.sk-parallel-item:last-child::after {align-self: flex-start;width: 50%;}#sk-container-id-1 div.sk-parallel-item:only-child::after {width: 0;}#sk-container-id-1 div.sk-dashed-wrapped {border: 1px dashed gray;margin: 0 0.4em 0.5em 0.4em;box-sizing: border-box;padding-bottom: 0.4em;background-color: white;}#sk-container-id-1 div.sk-label label {font-family: monospace;font-weight: bold;display: inline-block;line-height: 1.2em;}#sk-container-id-1 div.sk-label-container {text-align: center;}#sk-container-id-1 div.sk-container {/* jupyter's `normalize.less` sets `[hidden] { display: none; }` but bootstrap.min.css set `[hidden] { display: none !important; }` so we also need the `!important` here to be able to override the default hidden behavior on the sphinx rendered scikit-learn.org. See: https://github.com/scikit-learn/scikit-learn/issues/21755 */display: inline-block !important;position: relative;}#sk-container-id-1 div.sk-text-repr-fallback {display: none;}</style><div id=\"sk-container-id-1\" class=\"sk-top-container\"><div class=\"sk-text-repr-fallback\"><pre>Pipeline(steps=[(&#x27;ordinalencoder&#x27;,\n",
       "                 OrdinalEncoder(cols=[&#x27;Year&#x27;, &#x27;Taxon&#x27;, &#x27;Class&#x27;, &#x27;Order&#x27;,\n",
       "                                      &#x27;Family&#x27;, &#x27;Genus&#x27;, &#x27;Importer&#x27;, &#x27;Exporter&#x27;,\n",
       "                                      &#x27;Term&#x27;, &#x27;Purpose&#x27;, &#x27;Source&#x27;],\n",
       "                                mapping=[{&#x27;col&#x27;: &#x27;Year&#x27;,\n",
       "                                          &#x27;data_type&#x27;: dtype(&#x27;O&#x27;),\n",
       "                                          &#x27;mapping&#x27;: 2016    1\n",
       "2017    2\n",
       "NaN    -2\n",
       "dtype: int64},\n",
       "                                         {&#x27;col&#x27;: &#x27;Taxon&#x27;,\n",
       "                                          &#x27;data_type&#x27;: dtype(&#x27;O&#x27;),\n",
       "                                          &#x27;mapping&#x27;: Pteropus tonganus              1\n",
       "Tridacna maxima                2\n",
       "Varanus salvator               3\n",
       "Salvator rufescens             4...\n",
       "X       9\n",
       "A      10\n",
       "NaN    -2\n",
       "dtype: int64}])),\n",
       "                (&#x27;robustscaler&#x27;, RobustScaler()),\n",
       "                (&#x27;votingclassifier&#x27;,\n",
       "                 VotingClassifier(estimators=[(&#x27;LR&#x27;,\n",
       "                                               LogisticRegression(max_iter=200,\n",
       "                                                                  multi_class=&#x27;multinomial&#x27;)),\n",
       "                                              (&#x27;SVC&#x27;,\n",
       "                                               SVC(gamma=&#x27;auto&#x27;,\n",
       "                                                   probability=True)),\n",
       "                                              (&#x27;DTC&#x27;,\n",
       "                                               DecisionTreeClassifier(max_depth=10)),\n",
       "                                              (&#x27;RFC&#x27;,\n",
       "                                               RandomForestClassifier(random_state=42)),\n",
       "                                              (&#x27;GBC&#x27;,\n",
       "                                               GradientBoostingClassifier())]))])</pre><b>In a Jupyter environment, please rerun this cell to show the HTML representation or trust the notebook. <br />On GitHub, the HTML representation is unable to render, please try loading this page with nbviewer.org.</b></div><div class=\"sk-container\" hidden><div class=\"sk-item sk-dashed-wrapped\"><div class=\"sk-label-container\"><div class=\"sk-label sk-toggleable\"><input class=\"sk-toggleable__control sk-hidden--visually\" id=\"sk-estimator-id-1\" type=\"checkbox\" ><label for=\"sk-estimator-id-1\" class=\"sk-toggleable__label sk-toggleable__label-arrow\">Pipeline</label><div class=\"sk-toggleable__content\"><pre>Pipeline(steps=[(&#x27;ordinalencoder&#x27;,\n",
       "                 OrdinalEncoder(cols=[&#x27;Year&#x27;, &#x27;Taxon&#x27;, &#x27;Class&#x27;, &#x27;Order&#x27;,\n",
       "                                      &#x27;Family&#x27;, &#x27;Genus&#x27;, &#x27;Importer&#x27;, &#x27;Exporter&#x27;,\n",
       "                                      &#x27;Term&#x27;, &#x27;Purpose&#x27;, &#x27;Source&#x27;],\n",
       "                                mapping=[{&#x27;col&#x27;: &#x27;Year&#x27;,\n",
       "                                          &#x27;data_type&#x27;: dtype(&#x27;O&#x27;),\n",
       "                                          &#x27;mapping&#x27;: 2016    1\n",
       "2017    2\n",
       "NaN    -2\n",
       "dtype: int64},\n",
       "                                         {&#x27;col&#x27;: &#x27;Taxon&#x27;,\n",
       "                                          &#x27;data_type&#x27;: dtype(&#x27;O&#x27;),\n",
       "                                          &#x27;mapping&#x27;: Pteropus tonganus              1\n",
       "Tridacna maxima                2\n",
       "Varanus salvator               3\n",
       "Salvator rufescens             4...\n",
       "X       9\n",
       "A      10\n",
       "NaN    -2\n",
       "dtype: int64}])),\n",
       "                (&#x27;robustscaler&#x27;, RobustScaler()),\n",
       "                (&#x27;votingclassifier&#x27;,\n",
       "                 VotingClassifier(estimators=[(&#x27;LR&#x27;,\n",
       "                                               LogisticRegression(max_iter=200,\n",
       "                                                                  multi_class=&#x27;multinomial&#x27;)),\n",
       "                                              (&#x27;SVC&#x27;,\n",
       "                                               SVC(gamma=&#x27;auto&#x27;,\n",
       "                                                   probability=True)),\n",
       "                                              (&#x27;DTC&#x27;,\n",
       "                                               DecisionTreeClassifier(max_depth=10)),\n",
       "                                              (&#x27;RFC&#x27;,\n",
       "                                               RandomForestClassifier(random_state=42)),\n",
       "                                              (&#x27;GBC&#x27;,\n",
       "                                               GradientBoostingClassifier())]))])</pre></div></div></div><div class=\"sk-serial\"><div class=\"sk-item\"><div class=\"sk-estimator sk-toggleable\"><input class=\"sk-toggleable__control sk-hidden--visually\" id=\"sk-estimator-id-2\" type=\"checkbox\" ><label for=\"sk-estimator-id-2\" class=\"sk-toggleable__label sk-toggleable__label-arrow\">OrdinalEncoder</label><div class=\"sk-toggleable__content\"><pre>OrdinalEncoder(cols=[&#x27;Year&#x27;, &#x27;Taxon&#x27;, &#x27;Class&#x27;, &#x27;Order&#x27;, &#x27;Family&#x27;, &#x27;Genus&#x27;,\n",
       "                     &#x27;Importer&#x27;, &#x27;Exporter&#x27;, &#x27;Term&#x27;, &#x27;Purpose&#x27;, &#x27;Source&#x27;],\n",
       "               mapping=[{&#x27;col&#x27;: &#x27;Year&#x27;, &#x27;data_type&#x27;: dtype(&#x27;O&#x27;),\n",
       "                         &#x27;mapping&#x27;: 2016    1\n",
       "2017    2\n",
       "NaN    -2\n",
       "dtype: int64},\n",
       "                        {&#x27;col&#x27;: &#x27;Taxon&#x27;, &#x27;data_type&#x27;: dtype(&#x27;O&#x27;),\n",
       "                         &#x27;mapping&#x27;: Pteropus tonganus              1\n",
       "Tridacna maxima                2\n",
       "Varanus salvator               3\n",
       "Salvator rufescens             4\n",
       "Crocodylus siamensis           5\n",
       "                            ... \n",
       "Fungiacyath...\n",
       "Length: 200, dtype: int64},\n",
       "                        {&#x27;col&#x27;: &#x27;Term&#x27;, &#x27;data_type&#x27;: dtype(&#x27;O&#x27;),\n",
       "                         &#x27;mapping&#x27;: specimens                    1\n",
       "live                         2\n",
       "leather products (small)     3\n",
       "skins                        4\n",
       "caviar                       5\n",
       "                            ..\n",
       "powder                      64\n",
       "gall                        65\n",
       "eggshell                    66\n",
       "pupae                       67\n",
       "NaN                         -2\n",
       "Length: 68, dtype: int64},\n",
       "                        {&#x27;col&#x27;: &#x27;Purpose&#x27;, &#x27;data_type&#x27;: dtype(&#x27;O&#x27;),\n",
       "                         &#x27;mapping&#x27;: S       1\n",
       "T       2\n",
       "P       3\n",
       "Q       4\n",
       "Z       5\n",
       "M       6\n",
       "B       7\n",
       "H       8\n",
       "E       9\n",
       "L      10\n",
       "N      11\n",
       "NaN    -2\n",
       "dtype: int64},\n",
       "                        {&#x27;col&#x27;: &#x27;Source&#x27;, &#x27;data_type&#x27;: dtype(&#x27;O&#x27;),\n",
       "                         &#x27;mapping&#x27;: W       1\n",
       "F       2\n",
       "D       3\n",
       "C       4\n",
       "R       5\n",
       "O       6\n",
       "U       7\n",
       "I       8\n",
       "X       9\n",
       "A      10\n",
       "NaN    -2\n",
       "dtype: int64}])</pre></div></div></div><div class=\"sk-item\"><div class=\"sk-estimator sk-toggleable\"><input class=\"sk-toggleable__control sk-hidden--visually\" id=\"sk-estimator-id-3\" type=\"checkbox\" ><label for=\"sk-estimator-id-3\" class=\"sk-toggleable__label sk-toggleable__label-arrow\">RobustScaler</label><div class=\"sk-toggleable__content\"><pre>RobustScaler()</pre></div></div></div><div class=\"sk-item sk-dashed-wrapped\"><div class=\"sk-label-container\"><div class=\"sk-label sk-toggleable\"><input class=\"sk-toggleable__control sk-hidden--visually\" id=\"sk-estimator-id-4\" type=\"checkbox\" ><label for=\"sk-estimator-id-4\" class=\"sk-toggleable__label sk-toggleable__label-arrow\">votingclassifier: VotingClassifier</label><div class=\"sk-toggleable__content\"><pre>VotingClassifier(estimators=[(&#x27;LR&#x27;,\n",
       "                              LogisticRegression(max_iter=200,\n",
       "                                                 multi_class=&#x27;multinomial&#x27;)),\n",
       "                             (&#x27;SVC&#x27;, SVC(gamma=&#x27;auto&#x27;, probability=True)),\n",
       "                             (&#x27;DTC&#x27;, DecisionTreeClassifier(max_depth=10)),\n",
       "                             (&#x27;RFC&#x27;, RandomForestClassifier(random_state=42)),\n",
       "                             (&#x27;GBC&#x27;, GradientBoostingClassifier())])</pre></div></div></div><div class=\"sk-parallel\"><div class=\"sk-parallel-item\"><div class=\"sk-item\"><div class=\"sk-label-container\"><div class=\"sk-label sk-toggleable\"><label>LR</label></div></div><div class=\"sk-serial\"><div class=\"sk-item\"><div class=\"sk-estimator sk-toggleable\"><input class=\"sk-toggleable__control sk-hidden--visually\" id=\"sk-estimator-id-5\" type=\"checkbox\" ><label for=\"sk-estimator-id-5\" class=\"sk-toggleable__label sk-toggleable__label-arrow\">LogisticRegression</label><div class=\"sk-toggleable__content\"><pre>LogisticRegression(max_iter=200, multi_class=&#x27;multinomial&#x27;)</pre></div></div></div></div></div></div><div class=\"sk-parallel-item\"><div class=\"sk-item\"><div class=\"sk-label-container\"><div class=\"sk-label sk-toggleable\"><label>SVC</label></div></div><div class=\"sk-serial\"><div class=\"sk-item\"><div class=\"sk-estimator sk-toggleable\"><input class=\"sk-toggleable__control sk-hidden--visually\" id=\"sk-estimator-id-6\" type=\"checkbox\" ><label for=\"sk-estimator-id-6\" class=\"sk-toggleable__label sk-toggleable__label-arrow\">SVC</label><div class=\"sk-toggleable__content\"><pre>SVC(gamma=&#x27;auto&#x27;, probability=True)</pre></div></div></div></div></div></div><div class=\"sk-parallel-item\"><div class=\"sk-item\"><div class=\"sk-label-container\"><div class=\"sk-label sk-toggleable\"><label>DTC</label></div></div><div class=\"sk-serial\"><div class=\"sk-item\"><div class=\"sk-estimator sk-toggleable\"><input class=\"sk-toggleable__control sk-hidden--visually\" id=\"sk-estimator-id-7\" type=\"checkbox\" ><label for=\"sk-estimator-id-7\" class=\"sk-toggleable__label sk-toggleable__label-arrow\">DecisionTreeClassifier</label><div class=\"sk-toggleable__content\"><pre>DecisionTreeClassifier(max_depth=10)</pre></div></div></div></div></div></div><div class=\"sk-parallel-item\"><div class=\"sk-item\"><div class=\"sk-label-container\"><div class=\"sk-label sk-toggleable\"><label>RFC</label></div></div><div class=\"sk-serial\"><div class=\"sk-item\"><div class=\"sk-estimator sk-toggleable\"><input class=\"sk-toggleable__control sk-hidden--visually\" id=\"sk-estimator-id-8\" type=\"checkbox\" ><label for=\"sk-estimator-id-8\" class=\"sk-toggleable__label sk-toggleable__label-arrow\">RandomForestClassifier</label><div class=\"sk-toggleable__content\"><pre>RandomForestClassifier(random_state=42)</pre></div></div></div></div></div></div><div class=\"sk-parallel-item\"><div class=\"sk-item\"><div class=\"sk-label-container\"><div class=\"sk-label sk-toggleable\"><label>GBC</label></div></div><div class=\"sk-serial\"><div class=\"sk-item\"><div class=\"sk-estimator sk-toggleable\"><input class=\"sk-toggleable__control sk-hidden--visually\" id=\"sk-estimator-id-9\" type=\"checkbox\" ><label for=\"sk-estimator-id-9\" class=\"sk-toggleable__label sk-toggleable__label-arrow\">GradientBoostingClassifier</label><div class=\"sk-toggleable__content\"><pre>GradientBoostingClassifier()</pre></div></div></div></div></div></div></div></div></div></div></div></div>"
      ],
      "text/plain": [
       "Pipeline(steps=[('ordinalencoder',\n",
       "                 OrdinalEncoder(cols=['Year', 'Taxon', 'Class', 'Order',\n",
       "                                      'Family', 'Genus', 'Importer', 'Exporter',\n",
       "                                      'Term', 'Purpose', 'Source'],\n",
       "                                mapping=[{'col': 'Year',\n",
       "                                          'data_type': dtype('O'),\n",
       "                                          'mapping': 2016    1\n",
       "2017    2\n",
       "NaN    -2\n",
       "dtype: int64},\n",
       "                                         {'col': 'Taxon',\n",
       "                                          'data_type': dtype('O'),\n",
       "                                          'mapping': Pteropus tonganus              1\n",
       "Tridacna maxima                2\n",
       "Varanus salvator               3\n",
       "Salvator rufescens             4...\n",
       "X       9\n",
       "A      10\n",
       "NaN    -2\n",
       "dtype: int64}])),\n",
       "                ('robustscaler', RobustScaler()),\n",
       "                ('votingclassifier',\n",
       "                 VotingClassifier(estimators=[('LR',\n",
       "                                               LogisticRegression(max_iter=200,\n",
       "                                                                  multi_class='multinomial')),\n",
       "                                              ('SVC',\n",
       "                                               SVC(gamma='auto',\n",
       "                                                   probability=True)),\n",
       "                                              ('DTC',\n",
       "                                               DecisionTreeClassifier(max_depth=10)),\n",
       "                                              ('RFC',\n",
       "                                               RandomForestClassifier(random_state=42)),\n",
       "                                              ('GBC',\n",
       "                                               GradientBoostingClassifier())]))])"
      ]
     },
     "execution_count": 18,
     "metadata": {},
     "output_type": "execute_result"
    }
   ],
   "source": [
    "loaded_model"
   ]
  },
  {
   "cell_type": "code",
   "execution_count": 19,
   "id": "74d2053c-928d-437b-8ae2-a56117102ef5",
   "metadata": {
    "tags": []
   },
   "outputs": [
    {
     "data": {
      "text/plain": [
       "0.9327137546468401"
      ]
     },
     "execution_count": 19,
     "metadata": {},
     "output_type": "execute_result"
    }
   ],
   "source": [
    "loaded_model.score(X_test, y_test)"
   ]
  },
  {
   "cell_type": "code",
   "execution_count": 20,
   "id": "e77ff90c-adc2-4e6b-a417-449d698d59aa",
   "metadata": {},
   "outputs": [
    {
     "data": {
      "text/plain": [
       "0.9432777795481342"
      ]
     },
     "execution_count": 20,
     "metadata": {},
     "output_type": "execute_result"
    }
   ],
   "source": [
    "loaded_model.score(X_train, y_train)"
   ]
  },
  {
   "cell_type": "code",
   "execution_count": null,
   "id": "e96e1465-c29a-4393-9cd1-f92ac5d9dd54",
   "metadata": {},
   "outputs": [],
   "source": []
  }
 ],
 "metadata": {
  "kernelspec": {
   "display_name": "Python 3 (ipykernel)",
   "language": "python",
   "name": "python3"
  },
  "language_info": {
   "codemirror_mode": {
    "name": "ipython",
    "version": 3
   },
   "file_extension": ".py",
   "mimetype": "text/x-python",
   "name": "python",
   "nbconvert_exporter": "python",
   "pygments_lexer": "ipython3",
   "version": "3.9.12"
  },
  "widgets": {
   "application/vnd.jupyter.widget-state+json": {
    "state": {},
    "version_major": 2,
    "version_minor": 0
   }
  }
 },
 "nbformat": 4,
 "nbformat_minor": 5
}
